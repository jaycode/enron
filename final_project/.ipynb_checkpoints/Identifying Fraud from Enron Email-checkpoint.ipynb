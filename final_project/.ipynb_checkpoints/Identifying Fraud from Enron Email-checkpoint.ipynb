{
 "cells": [
  {
   "cell_type": "code",
   "execution_count": 1,
   "metadata": {
    "collapsed": false
   },
   "outputs": [
    {
     "data": {
      "text/html": [
       "<script>\n",
       "code_show=true; \n",
       "function code_toggle() {\n",
       "  if (code_show) {\n",
       "    $('div.input').each(function(id) {\n",
       "      if (id == 0 || $(this).html().indexOf('hide_me') > -1) {\n",
       "        $(this).hide();\n",
       "      }\n",
       "    });\n",
       "    $('div.output_prompt').css('opacity', 0);\n",
       "  } else {\n",
       "    $('div.input').each(function(id) {\n",
       "      $(this).show();\n",
       "    });\n",
       "    $('div.output_prompt').css('opacity', 1);\n",
       "  }\n",
       "  code_show = !code_show\n",
       "} \n",
       "$( document ).ready(code_toggle);\n",
       "</script>\n",
       "<form action=\"javascript:code_toggle()\"><input style=\"opacity:100\" type=\"submit\" value=\"Click here to toggle on/off the raw code.\"></form>"
      ],
      "text/plain": [
       "<IPython.core.display.HTML object>"
      ]
     },
     "execution_count": 1,
     "metadata": {},
     "output_type": "execute_result"
    }
   ],
   "source": [
    "# This is a cell to hide code snippets from displaying\n",
    "# Any cell that contains the word \"hide_me\" will be hidden.\n",
    "\n",
    "from IPython.display import HTML\n",
    "\n",
    "hide_me = ''\n",
    "HTML('''<script>\n",
    "code_show=true; \n",
    "function code_toggle() {\n",
    "  if (code_show) {\n",
    "    $('div.input').each(function(id) {\n",
    "      if (id == 0 || $(this).html().indexOf('hide_me') > -1) {\n",
    "        $(this).hide();\n",
    "      }\n",
    "    });\n",
    "    $('div.output_prompt').css('opacity', 0);\n",
    "  } else {\n",
    "    $('div.input').each(function(id) {\n",
    "      $(this).show();\n",
    "    });\n",
    "    $('div.output_prompt').css('opacity', 1);\n",
    "  }\n",
    "  code_show = !code_show\n",
    "} \n",
    "$( document ).ready(code_toggle);\n",
    "</script>\n",
    "<form action=\"javascript:code_toggle()\"><input style=\"opacity:100\" type=\"submit\" value=\"Click here to toggle on/off the raw code.\"></form>''')"
   ]
  },
  {
   "cell_type": "code",
   "execution_count": 2,
   "metadata": {
    "collapsed": false,
    "scrolled": true
   },
   "outputs": [],
   "source": [
    "hide_me\n",
    "\n",
    "#!/usr/bin/python\n",
    "\n",
    "import sys\n",
    "import cPickle\n",
    "import matplotlib.pyplot as plt\n",
    "import numpy as np\n",
    "sys.path.append(\"../tools/\")\n",
    "\n",
    "from feature_format import featureFormat, targetFeatureSplit\n",
    "from tester import test_classifier, dump_classifier_and_data\n",
    "\n",
    "### Load the dictionary containing the dataset\n",
    "data_dict = cPickle.load(open(\"final_project_dataset.pkl\", \"r\") )\n",
    "\n",
    "# Preparing all features and data to test.\n",
    "\n",
    "features_to_test = ['poi',\n",
    "                    'bonus',\n",
    "                    'salary',\n",
    "                    'deferral_payments',\n",
    "                    'deferred_income',\n",
    "                    'director_fees',\n",
    "                    'exercised_stock_options',\n",
    "                    'expenses',\n",
    "                    'total_payments',\n",
    "                    'total_stock_value',\n",
    "                    'from_messages',\n",
    "                    'from_poi_to_this_person',\n",
    "                    'from_this_person_to_poi',\n",
    "                    'loan_advances',\n",
    "                    'long_term_incentive',\n",
    "                    'other',\n",
    "                    'restricted_stock',\n",
    "                    'restricted_stock_deferred',\n",
    "                    'salary',\n",
    "                    'shared_receipt_with_poi',\n",
    "                    'to_messages'\n",
    "                   ]\n",
    "data_to_test = featureFormat(data_dict, features_to_test)"
   ]
  },
  {
   "cell_type": "code",
   "execution_count": 3,
   "metadata": {
    "collapsed": false
   },
   "outputs": [],
   "source": [
    "hide_me\n",
    "### Export pandas to csv, for GGpairs analysis in R\n",
    "import pandas as pd\n",
    "pd.set_option('display.max_columns', 30)\n",
    "pd.set_option('display.width', None)\n",
    "pd.set_option('display.max_colwidth', 0)\n",
    "\n",
    "# We will use pandas many times in our project so turn this into a function:\n",
    "def to_pandas(data_dict):\n",
    "    df = pd.DataFrame(data_dict)\n",
    "    df = df.convert_objects(convert_numeric=True)\n",
    "    df = df.transpose()\n",
    "    df.reset_index(level=0, inplace=True)\n",
    "    # Renaming with df.rename(columns={'index': 'name'}) does not work\n",
    "    # pandas bug??\n",
    "    columns = list(df.columns)\n",
    "    columns[0] = 'name'\n",
    "    df.columns = columns\n",
    "    return(df)\n",
    "df = to_pandas(data_dict)\n",
    "df.to_csv('dataset.csv')"
   ]
  },
  {
   "cell_type": "markdown",
   "metadata": {
    "slideshow": {
     "slide_type": "slide"
    }
   },
   "source": [
    "# Identifying Fraud from Enron Email\n",
    "by Jay Teguh Wijaya\n",
    "\n",
    "## Abstract\n",
    "In 2000, Enron was one of the largest companies in the United States. By 2002, it had collapsed into bankruptcy due to widespread corporate fraud. In the resulting Federal investigation, there was a significant amount of typically confidential information entered into public record, including tens of thousands of emails and detailed financial data for top executives. \n",
    "\n",
    "This project attempts to predict the likelihood of someone being a suspect of Enron fraud conspiracy by looking at given dataset. We call the suspects Person of Interest (POI). The dataset contains insider pays to all Enron executives as well as emails sent through their company accounts, and their POI status.\n",
    "\n",
    "We use machine learning to learn insider pays and emailing habits of POIs and non-POIs and see if we can find a pattern there, then use the model created to predict the likeliness of someone with a particular pattern of being a POI or not.\n",
    "\n",
    "## 1. Introduction\n",
    "*\"The field of machine learning is concerned with the question of how to construct computer programs that automatically improve with experience.\"*\n",
    "\n",
    "~Tom Mitchell\n",
    "\n",
    "This document was initially intended for my personal use, that was as a documentation of the steps I took to build the prediction model for this problem set. After some thoughts I figure that there are maybe other people, both Machine Learning practitioners or curious minds who may benefit from this article. Hence I toned down the nerdiness of this article in hope for it to be more digestible by wider audience.\n",
    "\n",
    "This is, however, still by nature a technical document, and it would be impossible to explain all the terminologies used without turning this into a book. For that purpose I created a [blog post](http://www.teguhwijaya.com/machine-learning/often-used-machine-learning-terms) explaining the terms used in this document. When you encountered an unfamiliar term while reading this document, you can head there for reference.\n",
    "\n",
    "### Raw code toggle button\n",
    "I added a small button on top of this page that will show the very code used in the analysis. Feel free to reuse the code I used here or make them as a point of reference in your own Machine Learning project.\n",
    "\n",
    "## 2. Data Exploration\n",
    "In the beginning of any machine learning project it is a good idea to explore the dataset to get a good sense on what we are dealing with.\n",
    "\n",
    "In this section I present some summaries of our dataset:"
   ]
  },
  {
   "cell_type": "code",
   "execution_count": 4,
   "metadata": {
    "collapsed": false,
    "scrolled": true
   },
   "outputs": [
    {
     "name": "stdout",
     "output_type": "stream",
     "text": [
      "name, bonus, deferral_payments, deferred_income, director_fees, email_address, exercised_stock_options, expenses, from_messages, from_poi_to_this_person, from_this_person_to_poi, loan_advances, long_term_incentive, other, poi, restricted_stock, restricted_stock_deferred, salary, shared_receipt_with_poi, to_messages, total_payments, total_stock_value\n"
     ]
    }
   ],
   "source": [
    "hide_me\n",
    "print ', '.join(df.keys())"
   ]
  },
  {
   "cell_type": "markdown",
   "metadata": {},
   "source": [
    "I identified three main type of features in the dataset:\n",
    "1. Insider pays like `bonus`, `salary`, `exercised_stock_options`, etc.\n",
    "2. Emailing habits:\n",
    "  - Number of emails sent: `from_messages`\n",
    "  - Number of emails received: `to_messages`\n",
    "  - Number of emails sent to POIs: `from_this_person_to_poi`\n",
    "  - Number of emails received from POIs: `from_poi_to_this_person`\n",
    "3. Our own features:\n",
    "  - Receipts shared with poi: `shared_receipt_with_poi`\n",
    "  - POI status as already known: `poi`\n",
    "  \n",
    "Here are some sample values:"
   ]
  },
  {
   "cell_type": "code",
   "execution_count": 5,
   "metadata": {
    "collapsed": false
   },
   "outputs": [
    {
     "data": {
      "text/html": [
       "<div>\n",
       "<table border=\"1\" class=\"dataframe\">\n",
       "  <thead>\n",
       "    <tr style=\"text-align: right;\">\n",
       "      <th></th>\n",
       "      <th>name</th>\n",
       "      <th>bonus</th>\n",
       "      <th>deferral_payments</th>\n",
       "      <th>deferred_income</th>\n",
       "      <th>director_fees</th>\n",
       "      <th>email_address</th>\n",
       "      <th>exercised_stock_options</th>\n",
       "      <th>expenses</th>\n",
       "      <th>from_messages</th>\n",
       "      <th>from_poi_to_this_person</th>\n",
       "      <th>from_this_person_to_poi</th>\n",
       "      <th>loan_advances</th>\n",
       "      <th>long_term_incentive</th>\n",
       "      <th>other</th>\n",
       "      <th>poi</th>\n",
       "      <th>restricted_stock</th>\n",
       "      <th>restricted_stock_deferred</th>\n",
       "      <th>salary</th>\n",
       "      <th>shared_receipt_with_poi</th>\n",
       "      <th>to_messages</th>\n",
       "      <th>total_payments</th>\n",
       "      <th>total_stock_value</th>\n",
       "    </tr>\n",
       "  </thead>\n",
       "  <tbody>\n",
       "    <tr>\n",
       "      <th>0</th>\n",
       "      <td>ALLEN PHILLIP K</td>\n",
       "      <td>4175000</td>\n",
       "      <td>2869717</td>\n",
       "      <td>-3081055</td>\n",
       "      <td>NaN</td>\n",
       "      <td>NaN</td>\n",
       "      <td>1729541</td>\n",
       "      <td>13868</td>\n",
       "      <td>2195</td>\n",
       "      <td>47</td>\n",
       "      <td>65</td>\n",
       "      <td>NaN</td>\n",
       "      <td>304805</td>\n",
       "      <td>152</td>\n",
       "      <td>0</td>\n",
       "      <td>126027</td>\n",
       "      <td>-126027</td>\n",
       "      <td>201955</td>\n",
       "      <td>1407</td>\n",
       "      <td>2902</td>\n",
       "      <td>4484442</td>\n",
       "      <td>1729541</td>\n",
       "    </tr>\n",
       "    <tr>\n",
       "      <th>1</th>\n",
       "      <td>BADUM JAMES P</td>\n",
       "      <td>NaN</td>\n",
       "      <td>178980</td>\n",
       "      <td>NaN</td>\n",
       "      <td>NaN</td>\n",
       "      <td>NaN</td>\n",
       "      <td>257817</td>\n",
       "      <td>3486</td>\n",
       "      <td>NaN</td>\n",
       "      <td>NaN</td>\n",
       "      <td>NaN</td>\n",
       "      <td>NaN</td>\n",
       "      <td>NaN</td>\n",
       "      <td>NaN</td>\n",
       "      <td>0</td>\n",
       "      <td>NaN</td>\n",
       "      <td>NaN</td>\n",
       "      <td>NaN</td>\n",
       "      <td>NaN</td>\n",
       "      <td>NaN</td>\n",
       "      <td>182466</td>\n",
       "      <td>257817</td>\n",
       "    </tr>\n",
       "    <tr>\n",
       "      <th>2</th>\n",
       "      <td>BANNANTINE JAMES M</td>\n",
       "      <td>NaN</td>\n",
       "      <td>NaN</td>\n",
       "      <td>-5104</td>\n",
       "      <td>NaN</td>\n",
       "      <td>NaN</td>\n",
       "      <td>4046157</td>\n",
       "      <td>56301</td>\n",
       "      <td>29</td>\n",
       "      <td>39</td>\n",
       "      <td>0</td>\n",
       "      <td>NaN</td>\n",
       "      <td>NaN</td>\n",
       "      <td>864523</td>\n",
       "      <td>0</td>\n",
       "      <td>1757552</td>\n",
       "      <td>-560222</td>\n",
       "      <td>477</td>\n",
       "      <td>465</td>\n",
       "      <td>566</td>\n",
       "      <td>916197</td>\n",
       "      <td>5243487</td>\n",
       "    </tr>\n",
       "    <tr>\n",
       "      <th>3</th>\n",
       "      <td>BAXTER JOHN C</td>\n",
       "      <td>1200000</td>\n",
       "      <td>1295738</td>\n",
       "      <td>-1386055</td>\n",
       "      <td>NaN</td>\n",
       "      <td>NaN</td>\n",
       "      <td>6680544</td>\n",
       "      <td>11200</td>\n",
       "      <td>NaN</td>\n",
       "      <td>NaN</td>\n",
       "      <td>NaN</td>\n",
       "      <td>NaN</td>\n",
       "      <td>1586055</td>\n",
       "      <td>2660303</td>\n",
       "      <td>0</td>\n",
       "      <td>3942714</td>\n",
       "      <td>NaN</td>\n",
       "      <td>267102</td>\n",
       "      <td>NaN</td>\n",
       "      <td>NaN</td>\n",
       "      <td>5634343</td>\n",
       "      <td>10623258</td>\n",
       "    </tr>\n",
       "    <tr>\n",
       "      <th>4</th>\n",
       "      <td>BAY FRANKLIN R</td>\n",
       "      <td>400000</td>\n",
       "      <td>260455</td>\n",
       "      <td>-201641</td>\n",
       "      <td>NaN</td>\n",
       "      <td>NaN</td>\n",
       "      <td>NaN</td>\n",
       "      <td>129142</td>\n",
       "      <td>NaN</td>\n",
       "      <td>NaN</td>\n",
       "      <td>NaN</td>\n",
       "      <td>NaN</td>\n",
       "      <td>NaN</td>\n",
       "      <td>69</td>\n",
       "      <td>0</td>\n",
       "      <td>145796</td>\n",
       "      <td>-82782</td>\n",
       "      <td>239671</td>\n",
       "      <td>NaN</td>\n",
       "      <td>NaN</td>\n",
       "      <td>827696</td>\n",
       "      <td>63014</td>\n",
       "    </tr>\n",
       "  </tbody>\n",
       "</table>\n",
       "</div>"
      ],
      "text/plain": [
       "                 name    bonus  deferral_payments  deferred_income  \\\n",
       "0  ALLEN PHILLIP K     4175000  2869717           -3081055           \n",
       "1  BADUM JAMES P      NaN       178980            NaN                \n",
       "2  BANNANTINE JAMES M NaN      NaN                -5104              \n",
       "3  BAXTER JOHN C       1200000  1295738           -1386055           \n",
       "4  BAY FRANKLIN R      400000   260455            -201641            \n",
       "\n",
       "   director_fees  email_address  exercised_stock_options  expenses  \\\n",
       "0 NaN            NaN             1729541                  13868      \n",
       "1 NaN            NaN             257817                   3486       \n",
       "2 NaN            NaN             4046157                  56301      \n",
       "3 NaN            NaN             6680544                  11200      \n",
       "4 NaN            NaN            NaN                       129142     \n",
       "\n",
       "   from_messages  from_poi_to_this_person  from_this_person_to_poi  \\\n",
       "0  2195           47                       65                        \n",
       "1 NaN            NaN                      NaN                        \n",
       "2  29             39                       0                         \n",
       "3 NaN            NaN                      NaN                        \n",
       "4 NaN            NaN                      NaN                        \n",
       "\n",
       "   loan_advances  long_term_incentive    other  poi  restricted_stock  \\\n",
       "0 NaN             304805               152      0    126027             \n",
       "1 NaN            NaN                  NaN       0   NaN                 \n",
       "2 NaN            NaN                   864523   0    1757552            \n",
       "3 NaN             1586055              2660303  0    3942714            \n",
       "4 NaN            NaN                   69       0    145796             \n",
       "\n",
       "   restricted_stock_deferred  salary  shared_receipt_with_poi  to_messages  \\\n",
       "0 -126027                     201955  1407                     2902          \n",
       "1 NaN                        NaN     NaN                      NaN            \n",
       "2 -560222                     477     465                      566           \n",
       "3 NaN                         267102 NaN                      NaN            \n",
       "4 -82782                      239671 NaN                      NaN            \n",
       "\n",
       "   total_payments  total_stock_value  \n",
       "0  4484442         1729541            \n",
       "1  182466          257817             \n",
       "2  916197          5243487            \n",
       "3  5634343         10623258           \n",
       "4  827696          63014              "
      ]
     },
     "execution_count": 5,
     "metadata": {},
     "output_type": "execute_result"
    }
   ],
   "source": [
    "hide_me\n",
    "heads = df.head(5)\n",
    "heads"
   ]
  },
  {
   "cell_type": "markdown",
   "metadata": {},
   "source": [
    "We can roughly tell from the above the type of each feature. `NaN` means `Not a Number`, usually to mark missing data values, but later we will see that in this case they should be replaced with `0`.\n",
    "\n",
    "How many data points are we working with? And from them, how many persons-of-interest? Below are some information of that and the distribution of some values we might be interested in:"
   ]
  },
  {
   "cell_type": "code",
   "execution_count": 6,
   "metadata": {
    "collapsed": false,
    "scrolled": true
   },
   "outputs": [
    {
     "name": "stdout",
     "output_type": "stream",
     "text": [
      "number of features:  22 \n",
      "\n",
      "     len\n",
      "poi     \n",
      "0    128\n",
      "1    18 \n"
     ]
    },
    {
     "data": {
      "text/html": [
       "<div>\n",
       "<table border=\"1\" class=\"dataframe\">\n",
       "  <thead>\n",
       "    <tr>\n",
       "      <th></th>\n",
       "      <th>bonus</th>\n",
       "      <th>salary</th>\n",
       "      <th>exercised_stock_options</th>\n",
       "      <th>shared_receipt_with_poi</th>\n",
       "      <th>loan_advances</th>\n",
       "      <th>to_messages</th>\n",
       "    </tr>\n",
       "    <tr>\n",
       "      <th></th>\n",
       "      <th>mean</th>\n",
       "      <th>mean</th>\n",
       "      <th>mean</th>\n",
       "      <th>mean</th>\n",
       "      <th>mean</th>\n",
       "      <th>mean</th>\n",
       "    </tr>\n",
       "    <tr>\n",
       "      <th>poi</th>\n",
       "      <th></th>\n",
       "      <th></th>\n",
       "      <th></th>\n",
       "      <th></th>\n",
       "      <th></th>\n",
       "      <th></th>\n",
       "    </tr>\n",
       "  </thead>\n",
       "  <tbody>\n",
       "    <tr>\n",
       "      <th>0</th>\n",
       "      <td>2446776.348485</td>\n",
       "      <td>601152.500000</td>\n",
       "      <td>5390155.122222</td>\n",
       "      <td>1058.527778</td>\n",
       "      <td>28775000</td>\n",
       "      <td>2007.111111</td>\n",
       "    </tr>\n",
       "    <tr>\n",
       "      <th>1</th>\n",
       "      <td>2074999.937500</td>\n",
       "      <td>383444.882353</td>\n",
       "      <td>10463793.666667</td>\n",
       "      <td>1783.000000</td>\n",
       "      <td>81525000</td>\n",
       "      <td>2417.142857</td>\n",
       "    </tr>\n",
       "  </tbody>\n",
       "</table>\n",
       "</div>"
      ],
      "text/plain": [
       "              bonus         salary exercised_stock_options  \\\n",
       "               mean           mean                    mean   \n",
       "poi                                                          \n",
       "0    2446776.348485  601152.500000  5390155.122222           \n",
       "1    2074999.937500  383444.882353  10463793.666667          \n",
       "\n",
       "    shared_receipt_with_poi loan_advances  to_messages  \n",
       "                       mean          mean         mean  \n",
       "poi                                                     \n",
       "0    1058.527778             28775000      2007.111111  \n",
       "1    1783.000000             81525000      2417.142857  "
      ]
     },
     "execution_count": 6,
     "metadata": {},
     "output_type": "execute_result"
    }
   ],
   "source": [
    "hide_me\n",
    "bypoi = df.groupby(['poi'])\n",
    "print \"number of features: \", len(df.keys()), \"\\n\"\n",
    "print bypoi['poi'].agg([len])\n",
    "bypoi['bonus',\n",
    "    'salary',\n",
    "    'exercised_stock_options',\n",
    "    'shared_receipt_with_poi',\n",
    "    'loan_advances',\n",
    "    'to_messages'].agg([np.mean])"
   ]
  },
  {
   "cell_type": "markdown",
   "metadata": {},
   "source": [
    "Looks like there are quite a sparse number of pois compared to non-pois. The implication of this in machine learning is that we will end up with smaller number of targets to learn from. With that in mind, we will need to place more importance (known as weights in machine learning) in \"poi\" class."
   ]
  },
  {
   "cell_type": "code",
   "execution_count": 7,
   "metadata": {
    "collapsed": false,
    "scrolled": false
   },
   "outputs": [
    {
     "data": {
      "text/html": [
       "<div>\n",
       "<table border=\"1\" class=\"dataframe\">\n",
       "  <thead>\n",
       "    <tr style=\"text-align: right;\">\n",
       "      <th></th>\n",
       "      <th>count</th>\n",
       "      <th>mean</th>\n",
       "      <th>std</th>\n",
       "      <th>min</th>\n",
       "      <th>25%</th>\n",
       "      <th>50%</th>\n",
       "      <th>75%</th>\n",
       "      <th>max</th>\n",
       "    </tr>\n",
       "  </thead>\n",
       "  <tbody>\n",
       "    <tr>\n",
       "      <th>bonus</th>\n",
       "      <td>82</td>\n",
       "      <td>2374234.609756</td>\n",
       "      <td>10713327.969046</td>\n",
       "      <td>70000</td>\n",
       "      <td>431250.00</td>\n",
       "      <td>769375.0</td>\n",
       "      <td>1200000.00</td>\n",
       "      <td>97343619</td>\n",
       "    </tr>\n",
       "    <tr>\n",
       "      <th>deferral_payments</th>\n",
       "      <td>39</td>\n",
       "      <td>1642674.153846</td>\n",
       "      <td>5161929.973575</td>\n",
       "      <td>-102500</td>\n",
       "      <td>81573.00</td>\n",
       "      <td>227449.0</td>\n",
       "      <td>1002671.50</td>\n",
       "      <td>32083396</td>\n",
       "    </tr>\n",
       "    <tr>\n",
       "      <th>deferred_income</th>\n",
       "      <td>49</td>\n",
       "      <td>-1140475.142857</td>\n",
       "      <td>4025406.378506</td>\n",
       "      <td>-27992891</td>\n",
       "      <td>-694862.00</td>\n",
       "      <td>-159792.0</td>\n",
       "      <td>-38346.00</td>\n",
       "      <td>-833</td>\n",
       "    </tr>\n",
       "    <tr>\n",
       "      <th>director_fees</th>\n",
       "      <td>17</td>\n",
       "      <td>166804.882353</td>\n",
       "      <td>319891.409747</td>\n",
       "      <td>3285</td>\n",
       "      <td>98784.00</td>\n",
       "      <td>108579.0</td>\n",
       "      <td>113784.00</td>\n",
       "      <td>1398517</td>\n",
       "    </tr>\n",
       "    <tr>\n",
       "      <th>email_address</th>\n",
       "      <td>0</td>\n",
       "      <td>NaN</td>\n",
       "      <td>NaN</td>\n",
       "      <td>NaN</td>\n",
       "      <td>NaN</td>\n",
       "      <td>NaN</td>\n",
       "      <td>NaN</td>\n",
       "      <td>NaN</td>\n",
       "    </tr>\n",
       "    <tr>\n",
       "      <th>exercised_stock_options</th>\n",
       "      <td>102</td>\n",
       "      <td>5987053.774510</td>\n",
       "      <td>31062006.568836</td>\n",
       "      <td>3285</td>\n",
       "      <td>527886.25</td>\n",
       "      <td>1310813.5</td>\n",
       "      <td>2547724.00</td>\n",
       "      <td>311764000</td>\n",
       "    </tr>\n",
       "    <tr>\n",
       "      <th>expenses</th>\n",
       "      <td>95</td>\n",
       "      <td>108728.915789</td>\n",
       "      <td>533534.814109</td>\n",
       "      <td>148</td>\n",
       "      <td>22614.00</td>\n",
       "      <td>46950.0</td>\n",
       "      <td>79952.50</td>\n",
       "      <td>5235198</td>\n",
       "    </tr>\n",
       "    <tr>\n",
       "      <th>from_messages</th>\n",
       "      <td>86</td>\n",
       "      <td>608.790698</td>\n",
       "      <td>1841.033949</td>\n",
       "      <td>12</td>\n",
       "      <td>22.75</td>\n",
       "      <td>41.0</td>\n",
       "      <td>145.50</td>\n",
       "      <td>14368</td>\n",
       "    </tr>\n",
       "    <tr>\n",
       "      <th>from_poi_to_this_person</th>\n",
       "      <td>86</td>\n",
       "      <td>64.895349</td>\n",
       "      <td>86.979244</td>\n",
       "      <td>0</td>\n",
       "      <td>10.00</td>\n",
       "      <td>35.0</td>\n",
       "      <td>72.25</td>\n",
       "      <td>528</td>\n",
       "    </tr>\n",
       "    <tr>\n",
       "      <th>from_this_person_to_poi</th>\n",
       "      <td>86</td>\n",
       "      <td>41.232558</td>\n",
       "      <td>100.073111</td>\n",
       "      <td>0</td>\n",
       "      <td>1.00</td>\n",
       "      <td>8.0</td>\n",
       "      <td>24.75</td>\n",
       "      <td>609</td>\n",
       "    </tr>\n",
       "    <tr>\n",
       "      <th>loan_advances</th>\n",
       "      <td>4</td>\n",
       "      <td>41962500.000000</td>\n",
       "      <td>47083208.701900</td>\n",
       "      <td>400000</td>\n",
       "      <td>1600000.00</td>\n",
       "      <td>41762500.0</td>\n",
       "      <td>82125000.00</td>\n",
       "      <td>83925000</td>\n",
       "    </tr>\n",
       "    <tr>\n",
       "      <th>long_term_incentive</th>\n",
       "      <td>66</td>\n",
       "      <td>1470361.454545</td>\n",
       "      <td>5942759.315498</td>\n",
       "      <td>69223</td>\n",
       "      <td>281250.00</td>\n",
       "      <td>442035.0</td>\n",
       "      <td>938672.00</td>\n",
       "      <td>48521928</td>\n",
       "    </tr>\n",
       "    <tr>\n",
       "      <th>other</th>\n",
       "      <td>93</td>\n",
       "      <td>919064.967742</td>\n",
       "      <td>4589252.907638</td>\n",
       "      <td>2</td>\n",
       "      <td>1215.00</td>\n",
       "      <td>52382.0</td>\n",
       "      <td>362096.00</td>\n",
       "      <td>42667589</td>\n",
       "    </tr>\n",
       "    <tr>\n",
       "      <th>poi</th>\n",
       "      <td>146</td>\n",
       "      <td>0.123288</td>\n",
       "      <td>0.329899</td>\n",
       "      <td>0</td>\n",
       "      <td>0.00</td>\n",
       "      <td>0.0</td>\n",
       "      <td>0.00</td>\n",
       "      <td>1</td>\n",
       "    </tr>\n",
       "    <tr>\n",
       "      <th>restricted_stock</th>\n",
       "      <td>110</td>\n",
       "      <td>2321741.136364</td>\n",
       "      <td>12518278.177383</td>\n",
       "      <td>-2604490</td>\n",
       "      <td>254018.00</td>\n",
       "      <td>451740.0</td>\n",
       "      <td>1002369.75</td>\n",
       "      <td>130322299</td>\n",
       "    </tr>\n",
       "    <tr>\n",
       "      <th>restricted_stock_deferred</th>\n",
       "      <td>18</td>\n",
       "      <td>166410.555556</td>\n",
       "      <td>4201494.314703</td>\n",
       "      <td>-7576788</td>\n",
       "      <td>-389621.75</td>\n",
       "      <td>-146975.0</td>\n",
       "      <td>-75009.75</td>\n",
       "      <td>15456290</td>\n",
       "    </tr>\n",
       "    <tr>\n",
       "      <th>salary</th>\n",
       "      <td>95</td>\n",
       "      <td>562194.294737</td>\n",
       "      <td>2716369.154553</td>\n",
       "      <td>477</td>\n",
       "      <td>211816.00</td>\n",
       "      <td>259996.0</td>\n",
       "      <td>312117.00</td>\n",
       "      <td>26704229</td>\n",
       "    </tr>\n",
       "    <tr>\n",
       "      <th>shared_receipt_with_poi</th>\n",
       "      <td>86</td>\n",
       "      <td>1176.465116</td>\n",
       "      <td>1178.317641</td>\n",
       "      <td>2</td>\n",
       "      <td>249.75</td>\n",
       "      <td>740.5</td>\n",
       "      <td>1888.25</td>\n",
       "      <td>5521</td>\n",
       "    </tr>\n",
       "    <tr>\n",
       "      <th>to_messages</th>\n",
       "      <td>86</td>\n",
       "      <td>2073.860465</td>\n",
       "      <td>2582.700981</td>\n",
       "      <td>57</td>\n",
       "      <td>541.25</td>\n",
       "      <td>1211.0</td>\n",
       "      <td>2634.75</td>\n",
       "      <td>15149</td>\n",
       "    </tr>\n",
       "    <tr>\n",
       "      <th>total_payments</th>\n",
       "      <td>125</td>\n",
       "      <td>5081526.488000</td>\n",
       "      <td>29061716.401161</td>\n",
       "      <td>148</td>\n",
       "      <td>394475.00</td>\n",
       "      <td>1101393.0</td>\n",
       "      <td>2093263.00</td>\n",
       "      <td>309886585</td>\n",
       "    </tr>\n",
       "    <tr>\n",
       "      <th>total_stock_value</th>\n",
       "      <td>126</td>\n",
       "      <td>6773957.452381</td>\n",
       "      <td>38957772.732279</td>\n",
       "      <td>-44093</td>\n",
       "      <td>494510.25</td>\n",
       "      <td>1102872.5</td>\n",
       "      <td>2949846.75</td>\n",
       "      <td>434509511</td>\n",
       "    </tr>\n",
       "  </tbody>\n",
       "</table>\n",
       "</div>"
      ],
      "text/plain": [
       "                           count             mean              std       min  \\\n",
       "bonus                      82     2374234.609756   10713327.969046  70000      \n",
       "deferral_payments          39     1642674.153846   5161929.973575  -102500     \n",
       "deferred_income            49    -1140475.142857   4025406.378506  -27992891   \n",
       "director_fees              17     166804.882353    319891.409747    3285       \n",
       "email_address              0     NaN              NaN              NaN         \n",
       "exercised_stock_options    102    5987053.774510   31062006.568836  3285       \n",
       "expenses                   95     108728.915789    533534.814109    148        \n",
       "from_messages              86     608.790698       1841.033949      12         \n",
       "from_poi_to_this_person    86     64.895349        86.979244        0          \n",
       "from_this_person_to_poi    86     41.232558        100.073111       0          \n",
       "loan_advances              4      41962500.000000  47083208.701900  400000     \n",
       "long_term_incentive        66     1470361.454545   5942759.315498   69223      \n",
       "other                      93     919064.967742    4589252.907638   2          \n",
       "poi                        146    0.123288         0.329899         0          \n",
       "restricted_stock           110    2321741.136364   12518278.177383 -2604490    \n",
       "restricted_stock_deferred  18     166410.555556    4201494.314703  -7576788    \n",
       "salary                     95     562194.294737    2716369.154553   477        \n",
       "shared_receipt_with_poi    86     1176.465116      1178.317641      2          \n",
       "to_messages                86     2073.860465      2582.700981      57         \n",
       "total_payments             125    5081526.488000   29061716.401161  148        \n",
       "total_stock_value          126    6773957.452381   38957772.732279 -44093      \n",
       "\n",
       "                                  25%         50%          75%        max  \n",
       "bonus                      431250.00   769375.0    1200000.00   97343619   \n",
       "deferral_payments          81573.00    227449.0    1002671.50   32083396   \n",
       "deferred_income           -694862.00  -159792.0   -38346.00    -833        \n",
       "director_fees              98784.00    108579.0    113784.00    1398517    \n",
       "email_address             NaN         NaN         NaN          NaN         \n",
       "exercised_stock_options    527886.25   1310813.5   2547724.00   311764000  \n",
       "expenses                   22614.00    46950.0     79952.50     5235198    \n",
       "from_messages              22.75       41.0        145.50       14368      \n",
       "from_poi_to_this_person    10.00       35.0        72.25        528        \n",
       "from_this_person_to_poi    1.00        8.0         24.75        609        \n",
       "loan_advances              1600000.00  41762500.0  82125000.00  83925000   \n",
       "long_term_incentive        281250.00   442035.0    938672.00    48521928   \n",
       "other                      1215.00     52382.0     362096.00    42667589   \n",
       "poi                        0.00        0.0         0.00         1          \n",
       "restricted_stock           254018.00   451740.0    1002369.75   130322299  \n",
       "restricted_stock_deferred -389621.75  -146975.0   -75009.75     15456290   \n",
       "salary                     211816.00   259996.0    312117.00    26704229   \n",
       "shared_receipt_with_poi    249.75      740.5       1888.25      5521       \n",
       "to_messages                541.25      1211.0      2634.75      15149      \n",
       "total_payments             394475.00   1101393.0   2093263.00   309886585  \n",
       "total_stock_value          494510.25   1102872.5   2949846.75   434509511  "
      ]
     },
     "execution_count": 7,
     "metadata": {},
     "output_type": "execute_result"
    }
   ],
   "source": [
    "hide_me\n",
    "desc = df.describe()\n",
    "desc = desc.transpose()\n",
    "desc"
   ]
  },
  {
   "cell_type": "markdown",
   "metadata": {},
   "source": [
    "From above summary:\n",
    "- Looks like we have 146 people / data points in our dataset.\n",
    "- There are 128 non-POIs and 18 POIs in our dataset.\n",
    "- There are 21 available features.\n",
    "- The following features seems to lack data points:\n",
    "  - director_fees\n",
    "  - loan_advances\n",
    "  - deferral_payments\n",
    "  - deferred_income\n",
    "  - restricted_stock_deferred\n",
    "  but later we will find out that since NaN should be replaced by 0 they are not actually missing values, just need some small adjustment.\n",
    "\n",
    "## 3. Dealing With Outliers\n",
    "Outliers may or may not be useful in our prediction model. If they are invalid values, they need to be removed, but otherwise if they are correct, outliers are important information to have by a prediction model.\n",
    "\n",
    "### 3.1. Finding outliers by visualizing the data\n",
    "One way to find outliers is by visualizing the data, then use our human intuition to find suspicious looking values. Here are the histograms of all features:"
   ]
  },
  {
   "cell_type": "code",
   "execution_count": 8,
   "metadata": {
    "collapsed": false
   },
   "outputs": [
    {
     "name": "stdout",
     "output_type": "stream",
     "text": [
      "Populating the interactive namespace from numpy and matplotlib\n"
     ]
    },
    {
     "data": {
      "image/png": "[encoded data removed]",
      "text/plain": [
       "<matplotlib.figure.Figure at 0x175c7da0>"
      ]
     },
     "metadata": {},
     "output_type": "display_data"
    }
   ],
   "source": [
    "hide_me\n",
    "%pylab inline\n",
    "\n",
    "# This creates a canvas of size 15 points width and 30 points height\n",
    "fig = plt.figure(figsize=(15, 30))\n",
    "\n",
    "for idx, feature in enumerate(features_to_test):\n",
    "    # This means: Divide that canvas to 6 rows, 3 columns,\n",
    "    # and at idx+1 position (since subplot is base-1), draw our plot.\n",
    "    ax = plt.subplot(7,3, idx+1)\n",
    "    \n",
    "    plt.title(feature)\n",
    "    plt.xticks(rotation='vertical')\n",
    "    \n",
    "    # hspace here sets space between rows.\n",
    "    # http://matplotlib.org/api/figure_api.html#matplotlib.figure.SubplotParams\n",
    "    plt.subplots_adjust(hspace=.6) \n",
    "    \n",
    "    ax.hist(data_to_test[:,idx])"
   ]
  },
  {
   "cell_type": "markdown",
   "metadata": {},
   "source": [
    "Judging by the x-axis scales of some of our histograms like bonus, salary, etc., there seems to be some outliers in our dataset. We can find that out by seeing that the largest scale is 1e7(i.e. 10,000,000) times the rightmost value in some charts.\n",
    "\n",
    "> **Note:** Ideally negative values found at `total_stock_value` and `restricted_stock` should have raised my suspicion, but for some reason, I did not see them in my analysis. That was alright, however, since as it turned out they are related to the outlier issues I found during the next section **Finding outliers by analyzing raw data** and they were corrected during that process.\n",
    "\n",
    "To find out what the suspicious values are, I wrote a function to show five largest data to find our outliers, as well as showing if they are POI for some analysis. Let's try running it with feature `bonus`:"
   ]
  },
  {
   "cell_type": "code",
   "execution_count": 9,
   "metadata": {
    "collapsed": true
   },
   "outputs": [],
   "source": [
    "hide_me\n",
    "def show_largest_five(data_dict, features, feature):\n",
    "    # What are the 5 largest points, sorted by x?\n",
    "    print \"5 largest\", feature\n",
    "    sorted_list = sorted(data_dict.iteritems(), \n",
    "                 key=lambda (key, val): int(0 if val[feature] == 'NaN' else val[feature]), reverse=True)[0:5]\n",
    "    print [(i[0]+ \"(\" + ('poi' if i[1]['poi'] else 'not poi') + \"): \"+ str(i[1][feature])) for i in sorted_list]"
   ]
  },
  {
   "cell_type": "code",
   "execution_count": 10,
   "metadata": {
    "collapsed": false
   },
   "outputs": [
    {
     "name": "stdout",
     "output_type": "stream",
     "text": [
      "5 largest bonus\n",
      "['TOTAL(not poi): 97343619', 'LAVORATO JOHN J(not poi): 8000000', 'LAY KENNETH L(poi): 7000000', 'SKILLING JEFFREY K(poi): 5600000', 'BELDEN TIMOTHY N(poi): 5249999']\n"
     ]
    }
   ],
   "source": [
    "hide_me\n",
    "show_largest_five(data_dict, features_to_test, 'bonus')"
   ]
  },
  {
   "cell_type": "markdown",
   "metadata": {},
   "source": [
    "**TOTAL** is clearly an outlier, and it makes sense that it caused many feature values skewed far to the right. In this case this data point needs to be removed from our dataset."
   ]
  },
  {
   "cell_type": "code",
   "execution_count": 11,
   "metadata": {
    "collapsed": true
   },
   "outputs": [],
   "source": [
    "hide_me\n",
    "if 'TOTAL' in data_dict:\n",
    "    del data_dict['TOTAL']"
   ]
  },
  {
   "cell_type": "markdown",
   "metadata": {},
   "source": [
    "There are still some suspicious values on `exercised_stock_options`, `loan_advances`, `other`, `restricted_stock`, and `restricted_stock_deferred`. Let's get 5 largest values off them."
   ]
  },
  {
   "cell_type": "code",
   "execution_count": 12,
   "metadata": {
    "collapsed": false
   },
   "outputs": [
    {
     "name": "stdout",
     "output_type": "stream",
     "text": [
      "5 largest exercised_stock_options\n",
      "['LAY KENNETH L(poi): 34348384', 'HIRKO JOSEPH(poi): 30766064', 'RICE KENNETH D(poi): 19794175', 'SKILLING JEFFREY K(poi): 19250000', 'PAI LOU L(not poi): 15364167']\n",
      "5 largest loan_advances\n",
      "['LAY KENNETH L(poi): 81525000', 'FREVERT MARK A(not poi): 2000000', 'PICKERING MARK R(not poi): 400000', 'METTS MARK(not poi): NaN', 'BAXTER JOHN C(not poi): NaN']\n",
      "5 largest other\n",
      "['LAY KENNETH L(poi): 10359729', 'FREVERT MARK A(not poi): 7427621', 'MARTIN AMANDA K(not poi): 2818454', 'BAXTER JOHN C(not poi): 2660303', 'SHERRIFF JOHN R(not poi): 1852186']\n",
      "5 largest restricted_stock\n",
      "['LAY KENNETH L(poi): 14761694', 'WHITE JR THOMAS E(not poi): 13847074', 'PAI LOU L(not poi): 8453763', 'SKILLING JEFFREY K(poi): 6843672', 'FREVERT MARK A(not poi): 4188667']\n",
      "5 largest restricted_stock_deferred\n",
      "['BHATNAGAR SANJAY(not poi): 15456290', 'BELFER ROBERT(not poi): 44093', 'METTS MARK(not poi): NaN', 'BAXTER JOHN C(not poi): NaN', 'ELLIOTT STEVEN(not poi): NaN']\n"
     ]
    }
   ],
   "source": [
    "hide_me\n",
    "show_largest_five(data_dict, features_to_test, 'exercised_stock_options')\n",
    "show_largest_five(data_dict, features_to_test, 'loan_advances')\n",
    "show_largest_five(data_dict, features_to_test, 'other')\n",
    "show_largest_five(data_dict, features_to_test, 'restricted_stock')\n",
    "show_largest_five(data_dict, features_to_test, 'restricted_stock_deferred')"
   ]
  },
  {
   "cell_type": "markdown",
   "metadata": {},
   "source": [
    "From the above, I conclude the following\n",
    "- Except for `restricted_stock_deferred`, they looked normal enough to use in our classifiers, as we can see that the largest values belongs to a POI.\n",
    "- `restricted_stock_deferred` could be an outlier, but we can't really tell at the moment, since it is possible, though perhaps unlikely, that that person does have that much difference compared to others. One way to find this out for sure is by comparing our dataset with the raw data which I do in the next section."
   ]
  },
  {
   "cell_type": "markdown",
   "metadata": {},
   "source": [
    "### 3.2. Finding outliers by analyzing raw data\n",
    "In this project we are lucky enough to have a pdf file `enron61702insiderpay.pdf` containing insider pay information of all people in the dataset.\n",
    "\n",
    "Here in this section I will explain the most optimal method to validate and correct our dataset from raw data.\n",
    "\n",
    "> **Noob mistake:** Initially, I mistakenly not looking into the pdf file at all, and when trying to find a way to combine the features, I see that some features can be combined into `total_payments`, while some others into `total_stock_value`. I would have saved quite a bit of time by directly reading the pdf first then reconfirm our dataset with the grouping formula as I have written here, but beginner's gotta learn!\n",
    "\n",
    "#### Find how the features correlate\n",
    "From the pdf, we can find that there are two groups of insider pays:\n",
    "\n",
    "1. `total_payments`, which is a combination of:\n",
    "    - `salary`\n",
    "    - `bonus`\n",
    "    - `director_fees`\n",
    "    - `deferral_payments`\n",
    "    - `deferred_income`\n",
    "    - `loan_advances`\n",
    "    - `long_term_incentive`\n",
    "    - `expenses`\n",
    "    - `other`\n",
    "    - `salary`\n",
    "2. `total_stock_value`, a combination of:\n",
    "    - `restricted_stock`\n",
    "    - `exercised_stock_options`\n",
    "    - `restricted_stock_deferred`\n",
    "    \n",
    "By having this knowledge, we know that we can confirm if the features' values are correct by running a small script that calculates `total_payments` and `total_stock_value` from other features, and report to us data points where the calculations were off.\n",
    "\n",
    "First we do it for `total_payments`, here is the report:"
   ]
  },
  {
   "cell_type": "code",
   "execution_count": 13,
   "metadata": {
    "collapsed": false
   },
   "outputs": [
    {
     "name": "stdout",
     "output_type": "stream",
     "text": [
      "                 name  combined  total_payments equals?  poi\n",
      "0  ALLEN PHILLIP K     4484442   4484442         True    0  \n",
      "1  BADUM JAMES P       182466    182466          True    0  \n",
      "2  BANNANTINE JAMES M  916197    916197          True    0  \n",
      "3  BAXTER JOHN C       5634343   5634343         True    0  \n",
      "4  BAY FRANKLIN R      827696    827696          True    0  \n",
      "144  out of  146\n",
      "Total difference between combined and total_payments:  15382277.0\n",
      "\n",
      "\n",
      "Which data points are different?\n",
      "                name  combined  total_payments equals?  poi\n",
      "8   BELFER ROBERT    -99215     102500          False   0  \n",
      "11  BHATNAGAR SANJAY  275728    15456290        False   0  \n"
     ]
    },
    {
     "data": {
      "text/html": [
       "<div>\n",
       "<table border=\"1\" class=\"dataframe\">\n",
       "  <thead>\n",
       "    <tr style=\"text-align: right;\">\n",
       "      <th></th>\n",
       "      <th>name</th>\n",
       "      <th>bonus</th>\n",
       "      <th>deferral_payments</th>\n",
       "      <th>deferred_income</th>\n",
       "      <th>director_fees</th>\n",
       "      <th>email_address</th>\n",
       "      <th>exercised_stock_options</th>\n",
       "      <th>expenses</th>\n",
       "      <th>from_messages</th>\n",
       "      <th>from_poi_to_this_person</th>\n",
       "      <th>from_this_person_to_poi</th>\n",
       "      <th>loan_advances</th>\n",
       "      <th>long_term_incentive</th>\n",
       "      <th>other</th>\n",
       "      <th>poi</th>\n",
       "      <th>restricted_stock</th>\n",
       "      <th>restricted_stock_deferred</th>\n",
       "      <th>salary</th>\n",
       "      <th>shared_receipt_with_poi</th>\n",
       "      <th>to_messages</th>\n",
       "      <th>total_payments</th>\n",
       "      <th>total_stock_value</th>\n",
       "    </tr>\n",
       "  </thead>\n",
       "  <tbody>\n",
       "    <tr>\n",
       "      <th>8</th>\n",
       "      <td>BELFER ROBERT</td>\n",
       "      <td>0</td>\n",
       "      <td>-102500</td>\n",
       "      <td>0</td>\n",
       "      <td>3285</td>\n",
       "      <td>0</td>\n",
       "      <td>3285</td>\n",
       "      <td>0</td>\n",
       "      <td>0</td>\n",
       "      <td>0</td>\n",
       "      <td>0</td>\n",
       "      <td>0</td>\n",
       "      <td>0</td>\n",
       "      <td>0</td>\n",
       "      <td>0</td>\n",
       "      <td>0</td>\n",
       "      <td>44093</td>\n",
       "      <td>0</td>\n",
       "      <td>0</td>\n",
       "      <td>0</td>\n",
       "      <td>102500</td>\n",
       "      <td>-44093</td>\n",
       "    </tr>\n",
       "    <tr>\n",
       "      <th>11</th>\n",
       "      <td>BHATNAGAR SANJAY</td>\n",
       "      <td>0</td>\n",
       "      <td>0</td>\n",
       "      <td>0</td>\n",
       "      <td>137864</td>\n",
       "      <td>0</td>\n",
       "      <td>2604490</td>\n",
       "      <td>0</td>\n",
       "      <td>29</td>\n",
       "      <td>0</td>\n",
       "      <td>1</td>\n",
       "      <td>0</td>\n",
       "      <td>0</td>\n",
       "      <td>137864</td>\n",
       "      <td>0</td>\n",
       "      <td>-2604490</td>\n",
       "      <td>15456290</td>\n",
       "      <td>0</td>\n",
       "      <td>463</td>\n",
       "      <td>523</td>\n",
       "      <td>15456290</td>\n",
       "      <td>0</td>\n",
       "    </tr>\n",
       "  </tbody>\n",
       "</table>\n",
       "</div>"
      ],
      "text/plain": [
       "                name  bonus  deferral_payments  deferred_income  \\\n",
       "8   BELFER ROBERT     0     -102500             0                 \n",
       "11  BHATNAGAR SANJAY  0      0                  0                 \n",
       "\n",
       "    director_fees  email_address  exercised_stock_options  expenses  \\\n",
       "8   3285           0              3285                     0          \n",
       "11  137864         0              2604490                  0          \n",
       "\n",
       "    from_messages  from_poi_to_this_person  from_this_person_to_poi  \\\n",
       "8   0              0                        0                         \n",
       "11  29             0                        1                         \n",
       "\n",
       "    loan_advances  long_term_incentive   other  poi  restricted_stock  \\\n",
       "8   0              0                    0       0    0                  \n",
       "11  0              0                    137864  0   -2604490            \n",
       "\n",
       "    restricted_stock_deferred  salary  shared_receipt_with_poi  to_messages  \\\n",
       "8   44093                      0       0                        0             \n",
       "11  15456290                   0       463                      523           \n",
       "\n",
       "    total_payments  total_stock_value  \n",
       "8   102500         -44093              \n",
       "11  15456290        0                  "
      ]
     },
     "execution_count": 13,
     "metadata": {},
     "output_type": "execute_result"
    }
   ],
   "source": [
    "hide_me\n",
    "# dataframe to check total_payments\n",
    "df2 = pd.DataFrame()\n",
    "\n",
    "df = df.fillna(0)\n",
    "df2['name'] = df['name']\n",
    "df2['combined'] = (\n",
    "    df['bonus'] + \n",
    "    df['director_fees'] +\n",
    "    df['deferral_payments'] +\n",
    "    df['deferred_income'] +\n",
    "    df['loan_advances'] +\n",
    "    df['long_term_incentive'] +\n",
    "    df['expenses'] +\n",
    "    df['other'] +\n",
    "    df['salary']\n",
    ")\n",
    "df2['total_payments'] = df['total_payments']\n",
    "df2['equals?'] = (df2['combined'] == df2['total_payments'])\n",
    "df2['poi'] = df['poi']\n",
    "print df2.head(5)\n",
    "print np.sum(df2['equals?']), \" out of \", len(df2)\n",
    "print \"Total difference between combined and total_payments: \", (np.sum(df2['total_payments']) - np.sum(df2['combined']))\n",
    "print \"\\n\"\n",
    "print \"Which data points are different?\"\n",
    "print df2[df2['equals?'] == False]\n",
    "df[df['name'].isin(df2[df2['equals?'] == False]['name'].tolist())]"
   ]
  },
  {
   "cell_type": "markdown",
   "metadata": {},
   "source": [
    "We found two incorrect entries. Let's now look into combining stock related values:"
   ]
  },
  {
   "cell_type": "code",
   "execution_count": 14,
   "metadata": {
    "collapsed": false
   },
   "outputs": [
    {
     "name": "stdout",
     "output_type": "stream",
     "text": [
      "                 name  combined  total_stock_value equals?  poi\n",
      "0  ALLEN PHILLIP K     1729541   1729541            True    0  \n",
      "1  BADUM JAMES P       257817    257817             True    0  \n",
      "2  BANNANTINE JAMES M  5243487   5243487            True    0  \n",
      "3  BAXTER JOHN C       10623258  10623258           True    0  \n",
      "4  BAY FRANKLIN R      63014     63014              True    0  \n",
      "144  out of  146\n",
      "Total difference between combined and total_stock_value:  -15547761.0\n",
      "\n",
      "\n",
      "Which data points are different?\n",
      "                name  combined  total_stock_value equals?  poi\n",
      "8   BELFER ROBERT     47378    -44093              False   0  \n",
      "11  BHATNAGAR SANJAY  15456290  0                  False   0  \n"
     ]
    },
    {
     "data": {
      "text/html": [
       "<div>\n",
       "<table border=\"1\" class=\"dataframe\">\n",
       "  <thead>\n",
       "    <tr style=\"text-align: right;\">\n",
       "      <th></th>\n",
       "      <th>name</th>\n",
       "      <th>bonus</th>\n",
       "      <th>deferral_payments</th>\n",
       "      <th>deferred_income</th>\n",
       "      <th>director_fees</th>\n",
       "      <th>email_address</th>\n",
       "      <th>exercised_stock_options</th>\n",
       "      <th>expenses</th>\n",
       "      <th>from_messages</th>\n",
       "      <th>from_poi_to_this_person</th>\n",
       "      <th>from_this_person_to_poi</th>\n",
       "      <th>loan_advances</th>\n",
       "      <th>long_term_incentive</th>\n",
       "      <th>other</th>\n",
       "      <th>poi</th>\n",
       "      <th>restricted_stock</th>\n",
       "      <th>restricted_stock_deferred</th>\n",
       "      <th>salary</th>\n",
       "      <th>shared_receipt_with_poi</th>\n",
       "      <th>to_messages</th>\n",
       "      <th>total_payments</th>\n",
       "      <th>total_stock_value</th>\n",
       "    </tr>\n",
       "  </thead>\n",
       "  <tbody>\n",
       "    <tr>\n",
       "      <th>8</th>\n",
       "      <td>BELFER ROBERT</td>\n",
       "      <td>0</td>\n",
       "      <td>-102500</td>\n",
       "      <td>0</td>\n",
       "      <td>3285</td>\n",
       "      <td>0</td>\n",
       "      <td>3285</td>\n",
       "      <td>0</td>\n",
       "      <td>0</td>\n",
       "      <td>0</td>\n",
       "      <td>0</td>\n",
       "      <td>0</td>\n",
       "      <td>0</td>\n",
       "      <td>0</td>\n",
       "      <td>0</td>\n",
       "      <td>0</td>\n",
       "      <td>44093</td>\n",
       "      <td>0</td>\n",
       "      <td>0</td>\n",
       "      <td>0</td>\n",
       "      <td>102500</td>\n",
       "      <td>-44093</td>\n",
       "    </tr>\n",
       "    <tr>\n",
       "      <th>11</th>\n",
       "      <td>BHATNAGAR SANJAY</td>\n",
       "      <td>0</td>\n",
       "      <td>0</td>\n",
       "      <td>0</td>\n",
       "      <td>137864</td>\n",
       "      <td>0</td>\n",
       "      <td>2604490</td>\n",
       "      <td>0</td>\n",
       "      <td>29</td>\n",
       "      <td>0</td>\n",
       "      <td>1</td>\n",
       "      <td>0</td>\n",
       "      <td>0</td>\n",
       "      <td>137864</td>\n",
       "      <td>0</td>\n",
       "      <td>-2604490</td>\n",
       "      <td>15456290</td>\n",
       "      <td>0</td>\n",
       "      <td>463</td>\n",
       "      <td>523</td>\n",
       "      <td>15456290</td>\n",
       "      <td>0</td>\n",
       "    </tr>\n",
       "  </tbody>\n",
       "</table>\n",
       "</div>"
      ],
      "text/plain": [
       "                name  bonus  deferral_payments  deferred_income  \\\n",
       "8   BELFER ROBERT     0     -102500             0                 \n",
       "11  BHATNAGAR SANJAY  0      0                  0                 \n",
       "\n",
       "    director_fees  email_address  exercised_stock_options  expenses  \\\n",
       "8   3285           0              3285                     0          \n",
       "11  137864         0              2604490                  0          \n",
       "\n",
       "    from_messages  from_poi_to_this_person  from_this_person_to_poi  \\\n",
       "8   0              0                        0                         \n",
       "11  29             0                        1                         \n",
       "\n",
       "    loan_advances  long_term_incentive   other  poi  restricted_stock  \\\n",
       "8   0              0                    0       0    0                  \n",
       "11  0              0                    137864  0   -2604490            \n",
       "\n",
       "    restricted_stock_deferred  salary  shared_receipt_with_poi  to_messages  \\\n",
       "8   44093                      0       0                        0             \n",
       "11  15456290                   0       463                      523           \n",
       "\n",
       "    total_payments  total_stock_value  \n",
       "8   102500         -44093              \n",
       "11  15456290        0                  "
      ]
     },
     "execution_count": 14,
     "metadata": {},
     "output_type": "execute_result"
    }
   ],
   "source": [
    "hide_me\n",
    "# dataframe to check total_stock_value\n",
    "df3 = pd.DataFrame()\n",
    "\n",
    "df = df.fillna(0)\n",
    "df3['name'] = df['name']\n",
    "df3['combined'] = (\n",
    "    df['restricted_stock'] +\n",
    "    df['exercised_stock_options'] +\n",
    "    df['restricted_stock_deferred']\n",
    ")\n",
    "df3['total_stock_value'] = df['total_stock_value']\n",
    "df3['equals?'] = (df3['combined'] == df3['total_stock_value'])\n",
    "df3['poi'] = df['poi']\n",
    "print df3.head(5)\n",
    "print np.sum(df3['equals?']), \" out of \", len(df3)\n",
    "print \"Total difference between combined and total_stock_value: \", (np.sum(df3['total_stock_value']) - np.sum(df3['combined']))\n",
    "print \"\\n\"\n",
    "print \"Which data points are different?\"\n",
    "print df3[df3['equals?'] == False]\n",
    "df[df['name'].isin(df3[df3['equals?'] == False]['name'].tolist())]"
   ]
  },
  {
   "cell_type": "markdown",
   "metadata": {},
   "source": [
    "Applying the formula, we ended up with both same outliers, \"BELFER ROBERT\" and \"BHATNAGAR SANJAY\". Now we can just look at `enron61702insiderpay.pdf` file and fix them by hands.\n",
    "\n",
    "Below is the updated \"BELFER ROBERT\" and \"BHATNAGAR SANJAY\" data points from that report:"
   ]
  },
  {
   "cell_type": "code",
   "execution_count": 15,
   "metadata": {
    "collapsed": false,
    "scrolled": true
   },
   "outputs": [
    {
     "data": {
      "text/html": [
       "<div>\n",
       "<table border=\"1\" class=\"dataframe\">\n",
       "  <thead>\n",
       "    <tr style=\"text-align: right;\">\n",
       "      <th></th>\n",
       "      <th>name</th>\n",
       "      <th>bonus</th>\n",
       "      <th>deferral_payments</th>\n",
       "      <th>deferred_income</th>\n",
       "      <th>director_fees</th>\n",
       "      <th>email_address</th>\n",
       "      <th>exercised_stock_options</th>\n",
       "      <th>expenses</th>\n",
       "      <th>from_messages</th>\n",
       "      <th>from_poi_to_this_person</th>\n",
       "      <th>from_this_person_to_poi</th>\n",
       "      <th>loan_advances</th>\n",
       "      <th>long_term_incentive</th>\n",
       "      <th>other</th>\n",
       "      <th>poi</th>\n",
       "      <th>restricted_stock</th>\n",
       "      <th>restricted_stock_deferred</th>\n",
       "      <th>salary</th>\n",
       "      <th>shared_receipt_with_poi</th>\n",
       "      <th>to_messages</th>\n",
       "      <th>total_payments</th>\n",
       "      <th>total_stock_value</th>\n",
       "    </tr>\n",
       "  </thead>\n",
       "  <tbody>\n",
       "    <tr>\n",
       "      <th>8</th>\n",
       "      <td>BELFER ROBERT</td>\n",
       "      <td>NaN</td>\n",
       "      <td>NaN</td>\n",
       "      <td>-102500</td>\n",
       "      <td>102500</td>\n",
       "      <td>NaN</td>\n",
       "      <td>NaN</td>\n",
       "      <td>3285</td>\n",
       "      <td>NaN</td>\n",
       "      <td>NaN</td>\n",
       "      <td>NaN</td>\n",
       "      <td>NaN</td>\n",
       "      <td>NaN</td>\n",
       "      <td>NaN</td>\n",
       "      <td>0</td>\n",
       "      <td>44093</td>\n",
       "      <td>-44093</td>\n",
       "      <td>NaN</td>\n",
       "      <td>NaN</td>\n",
       "      <td>NaN</td>\n",
       "      <td>3285</td>\n",
       "      <td>NaN</td>\n",
       "    </tr>\n",
       "    <tr>\n",
       "      <th>11</th>\n",
       "      <td>BHATNAGAR SANJAY</td>\n",
       "      <td>NaN</td>\n",
       "      <td>NaN</td>\n",
       "      <td>NaN</td>\n",
       "      <td>NaN</td>\n",
       "      <td>NaN</td>\n",
       "      <td>15456290</td>\n",
       "      <td>137864</td>\n",
       "      <td>29</td>\n",
       "      <td>0</td>\n",
       "      <td>1</td>\n",
       "      <td>NaN</td>\n",
       "      <td>NaN</td>\n",
       "      <td>NaN</td>\n",
       "      <td>0</td>\n",
       "      <td>2604490</td>\n",
       "      <td>-2604490</td>\n",
       "      <td>NaN</td>\n",
       "      <td>463</td>\n",
       "      <td>523</td>\n",
       "      <td>137864</td>\n",
       "      <td>15456290</td>\n",
       "    </tr>\n",
       "  </tbody>\n",
       "</table>\n",
       "</div>"
      ],
      "text/plain": [
       "                name  bonus  deferral_payments  deferred_income  \\\n",
       "8   BELFER ROBERT    NaN    NaN                -102500            \n",
       "11  BHATNAGAR SANJAY NaN    NaN                NaN                \n",
       "\n",
       "    director_fees  email_address  exercised_stock_options  expenses  \\\n",
       "8   102500        NaN            NaN                       3285       \n",
       "11 NaN            NaN             15456290                 137864     \n",
       "\n",
       "    from_messages  from_poi_to_this_person  from_this_person_to_poi  \\\n",
       "8  NaN            NaN                      NaN                        \n",
       "11  29             0                        1                         \n",
       "\n",
       "    loan_advances  long_term_incentive  other  poi  restricted_stock  \\\n",
       "8  NaN            NaN                  NaN     0    44093              \n",
       "11 NaN            NaN                  NaN     0    2604490            \n",
       "\n",
       "    restricted_stock_deferred  salary  shared_receipt_with_poi  to_messages  \\\n",
       "8  -44093                     NaN     NaN                      NaN            \n",
       "11 -2604490                   NaN      463                      523           \n",
       "\n",
       "    total_payments  total_stock_value  \n",
       "8   3285           NaN                 \n",
       "11  137864          15456290           "
      ]
     },
     "execution_count": 15,
     "metadata": {},
     "output_type": "execute_result"
    }
   ],
   "source": [
    "hide_me\n",
    "data_dict_updated = data_dict\n",
    "data_dict_updated['BELFER ROBERT']['deferred_income'] = -102500\n",
    "data_dict_updated['BELFER ROBERT']['deferral_payments'] = 'NaN'\n",
    "data_dict_updated['BELFER ROBERT']['expenses'] = 3285\n",
    "data_dict_updated['BELFER ROBERT']['director_fees'] = 102500\n",
    "data_dict_updated['BELFER ROBERT']['total_payments'] = 3285\n",
    "data_dict_updated['BELFER ROBERT']['exercised_stock_options'] = 'NaN'\n",
    "data_dict_updated['BELFER ROBERT']['restricted_stock'] = 44093\n",
    "data_dict_updated['BELFER ROBERT']['restricted_stock_deferred'] = -44093\n",
    "data_dict_updated['BELFER ROBERT']['total_stock_value'] = 'NaN'\n",
    "\n",
    "data_dict_updated['BHATNAGAR SANJAY']['other'] = 'NaN'\n",
    "data_dict_updated['BHATNAGAR SANJAY']['expenses'] = 137864\n",
    "data_dict_updated['BHATNAGAR SANJAY']['director_fees'] = 'NaN'\n",
    "data_dict_updated['BHATNAGAR SANJAY']['total_payments'] = 137864\n",
    "data_dict_updated['BHATNAGAR SANJAY']['exercised_stock_options'] = 15456290\n",
    "data_dict_updated['BHATNAGAR SANJAY']['restricted_stock'] = 2604490\n",
    "data_dict_updated['BHATNAGAR SANJAY']['restricted_stock_deferred'] = -2604490\n",
    "data_dict_updated['BHATNAGAR SANJAY']['total_stock_value'] = 15456290\n",
    "\n",
    "df_updated = to_pandas(data_dict_updated)\n",
    "\n",
    "df_updated[(df_updated['name'] == 'BELFER ROBERT') | (df_updated['name'] == 'BHATNAGAR SANJAY')]"
   ]
  },
  {
   "cell_type": "markdown",
   "metadata": {},
   "source": [
    "Let's run the calculation again and confirm if we have fixed the dataset."
   ]
  },
  {
   "cell_type": "code",
   "execution_count": 16,
   "metadata": {
    "collapsed": false
   },
   "outputs": [
    {
     "name": "stdout",
     "output_type": "stream",
     "text": [
      "PAYMENTS:\n",
      "\n",
      "145  out of  145\n",
      "Total difference between combined and total_payments:  0.0\n",
      "\n",
      "\n",
      "TOTAL STOCK VALUE:\n",
      "\n",
      "145  out of  145\n",
      "Total difference between combined and total_stock_value:  0.0\n",
      "\n",
      "\n"
     ]
    }
   ],
   "source": [
    "hide_me\n",
    "df2_updated = pd.DataFrame()\n",
    "df_updated = df_updated.fillna(0)\n",
    "df2_updated['name'] = df_updated['name']\n",
    "df2_updated['combined'] = (\n",
    "    df_updated['bonus'] + \n",
    "    df_updated['director_fees'] +\n",
    "    df_updated['deferral_payments'] +\n",
    "    df_updated['deferred_income'] +\n",
    "    df_updated['loan_advances'] +\n",
    "    df_updated['long_term_incentive'] +\n",
    "    df_updated['expenses'] +\n",
    "    df_updated['other'] +\n",
    "    df_updated['salary']\n",
    ")\n",
    "df2_updated['total_payments'] = df_updated['total_payments']\n",
    "df2_updated['equals?'] = (df2_updated['combined'] == df2_updated['total_payments'])\n",
    "df2_updated['poi'] = df_updated['poi']\n",
    "print \"PAYMENTS:\\n\"\n",
    "print np.sum(df2_updated['equals?']), \" out of \", len(df2_updated)\n",
    "print \"Total difference between combined and total_payments: \", (np.sum(df2_updated['total_payments']) - np.sum(df2_updated['combined']))\n",
    "print \"\\n\"\n",
    "\n",
    "df3_updated = pd.DataFrame()\n",
    "df_updated = df_updated.fillna(0)\n",
    "df3_updated['name'] = df_updated['name']\n",
    "df3_updated['combined'] = (\n",
    "    df_updated['restricted_stock'] +\n",
    "    df_updated['exercised_stock_options'] +\n",
    "    df_updated['restricted_stock_deferred']\n",
    ")\n",
    "df3_updated['total_stock_value'] = df_updated['total_stock_value']\n",
    "df3_updated['equals?'] = (df3_updated['combined'] == df3_updated['total_stock_value'])\n",
    "df3_updated['poi'] = df_updated['poi']\n",
    "print \"TOTAL STOCK VALUE:\\n\"\n",
    "print np.sum(df3_updated['equals?']), \" out of \", len(df3_updated)\n",
    "print \"Total difference between combined and total_stock_value: \", (np.sum(df3_updated['total_stock_value']) - np.sum(df3_updated['combined']))\n",
    "print \"\\n\"\n",
    "\n"
   ]
  },
  {
   "cell_type": "markdown",
   "metadata": {},
   "source": [
    "### 3.3. Plotting our final dataset with outliers corrected\n",
    "Here I plot again all the features after corrected all outliers found above:"
   ]
  },
  {
   "cell_type": "code",
   "execution_count": 17,
   "metadata": {
    "collapsed": false
   },
   "outputs": [
    {
     "name": "stdout",
     "output_type": "stream",
     "text": [
      "Populating the interactive namespace from numpy and matplotlib\n"
     ]
    },
    {
     "data": {
      "image/png": "[encoded data removed]",
      "text/plain": [
       "<matplotlib.figure.Figure at 0x17bf96a0>"
      ]
     },
     "metadata": {},
     "output_type": "display_data"
    }
   ],
   "source": [
    "hide_me\n",
    "%pylab inline\n",
    "\n",
    "data_to_test = featureFormat(data_dict_updated, features_to_test)\n",
    "fig = plt.figure(figsize=(15, 30))\n",
    "\n",
    "for idx, feature in enumerate(features_to_test):\n",
    "    ax = plt.subplot(7,3, idx+1)\n",
    "    plt.title(feature)\n",
    "    plt.xticks(rotation='vertical')\n",
    "    plt.subplots_adjust(hspace=.6) \n",
    "    ax.hist(data_to_test[:,idx])"
   ]
  },
  {
   "cell_type": "markdown",
   "metadata": {},
   "source": [
    "## 4. Setting Up Initial Prediction Model\n",
    "Before continuing with feature selection, let us first focus on getting our prediction model up and running. The reasons are:\n",
    "1. Getting prediction model to run takes less effort than building new features.\n",
    "2. When we have our prediction model ready, we can use it to test our new choice of features and see if they improved the model.\n",
    "\n",
    "### 4.1. What does a prediction model consist of?\n",
    "A prediction model can contain several steps within it. We call the collection of these steps a \"Pipeline\". In this project, for example, the pipeline I created have two steps:\n",
    "\n",
    "1. Scaling of features: This is useful to make sure we have similar scoring throughout our features. In our case, we combined number of messages (values in the thousands) with salary (values in the hundreds of thousands), to ensure, for example, a relatively high number of messages compared to other messages are not valued less than relatively low amount of salary compared to all salaries.\n",
    "2. Classifier: This step contains the algorithm we use to classify our features into different target class i.e. POI or non POI.\n",
    "\n",
    "Below is the result of our initial prediction model:"
   ]
  },
  {
   "cell_type": "code",
   "execution_count": 18,
   "metadata": {
    "collapsed": false
   },
   "outputs": [
    {
     "name": "stdout",
     "output_type": "stream",
     "text": [
      "Pipeline(steps=[('features', FeatureUnion(n_jobs=1,\n",
      "       transformer_list=[('scale', MinMaxScaler(copy=True, feature_range=(0, 1)))],\n",
      "       transformer_weights=None)), ('classify', DecisionTreeClassifier(class_weight=None, criterion='gini', max_depth=None,\n",
      "            max_features=None, max_leaf_nodes=None, min_samples_leaf=1,\n",
      "            min_samples_split=2, min_weight_fraction_leaf=0.0,\n",
      "            random_state=13, splitter='best'))])\n",
      "\tAccuracy: 0.80073\tPrecision: 0.23599\tRecall: 0.22100\tF1: 0.22825\tF2: 0.22384\n",
      "\tTotal predictions: 15000\tTrue positives:  442\tFalse positives: 1431\tFalse negatives: 1558\tTrue negatives: 11569\n",
      "\n"
     ]
    }
   ],
   "source": [
    "hide_me\n",
    "\n",
    "random = 13\n",
    "import copy\n",
    "\n",
    "my_dataset = copy.deepcopy(data_dict)\n",
    "\n",
    "from sklearn.tree import DecisionTreeClassifier\n",
    "from sklearn.pipeline import Pipeline, FeatureUnion\n",
    "from sklearn.preprocessing import MinMaxScaler\n",
    "\n",
    "combined_features = FeatureUnion([\n",
    "        ('scale', MinMaxScaler())\n",
    "    ])\n",
    "\n",
    "estimators = [\n",
    "    ('features', combined_features),\n",
    "    ('classify', DecisionTreeClassifier(random_state=random))\n",
    "]\n",
    "\n",
    "pclf = Pipeline(estimators)\n",
    "\n",
    "test_classifier(pclf, data_dict_updated, features_to_test)"
   ]
  },
  {
   "cell_type": "markdown",
   "metadata": {},
   "source": [
    "Seeing the above report for the first time might be overwhelming to understand, but it is actually quite simple.\n",
    "\n",
    "In the first part, the one started with \"Pipeline\", this report explained the details of our prediction model. That includes all the steps in it and the parameters used in each step. In later step we will try to find the most optimized set of parameters for our model.\n",
    "\n",
    "The lines below it (started with \"Accuracy\") report the scores based on our chosen evaluation metrics.\n",
    "\n",
    "### 4.2. Evaluation Metrics\n",
    "We can't improve what we can't measure. Similarly in creating a prediction model we need to use a kind of measurement to see if the model is good enough.\n",
    "\n",
    "The two most important evaluation metrics from that line are \"Precision and Recall\" and \"F1\" (that makes it three, but precision and recall are usually stick together).\n",
    "\n",
    "We do the evaluation by cross-validating our prediction model with given testing dataset using a stratified shuffle split (remember to [check my blog post](http://www.teguhwijaya.com/machine-learning/often-used-machine-learning-terms) if you're lost with the terminology).\n",
    "\n",
    "In short, better F1 value means better model, and Precision is usually a trade-off against Recall."
   ]
  },
  {
   "cell_type": "markdown",
   "metadata": {},
   "source": [
    "## 5. Feature Selection\n",
    "Digging through the dataset, we found that there seems to be a correlation between being a POI and most of the features, as seen in below correlation matrix."
   ]
  },
  {
   "cell_type": "code",
   "execution_count": 19,
   "metadata": {
    "collapsed": false
   },
   "outputs": [],
   "source": [
    "hide_me\n",
    "# Export to csv for correlation analysis in R.\n",
    "df_updated.to_csv('dataset_updated.csv')"
   ]
  },
  {
   "cell_type": "markdown",
   "metadata": {},
   "source": [
    "![Correlation Plot](figure/corrplot_updated-1.png)"
   ]
  },
  {
   "cell_type": "markdown",
   "metadata": {},
   "source": [
    "We do not need to manually choose which features to use in our prediction model. They are better selected automatically later using machine learning algorithms.\n",
    "\n",
    "What we need to find from this correlation model though are features with correlation value to our target, POI, that are close to 0 and see if we can do some feature engineering on them. Correlation between two variables that are close to 0 means changes to them less likely affect each other. The best features for machine learning are features that are highly correlated with targets but not with other features."
   ]
  },
  {
   "cell_type": "markdown",
   "metadata": {
    "collapsed": true
   },
   "source": [
    "### 5.1. To keep or remove aggregated values?\n",
    "Earlier we found out that `total_salary` and `total_stock_values` are the sum of other features. Is it better to keep these two features, or remove them since they add no new information?\n",
    "\n",
    "My latest conclusion on this matter is **it depends**. Different type of aggregation have different effects, and the effects are not the same when applied to different algorithms. There are papers explaining various experiments on this but there are simply too many variables and pattern involved. I would say for now the best we can do is to try running it through our test to see if it actually improves or worsen the model (if running the test does not take too much time, that is).\n",
    "\n",
    "Below is the result when `total_salary` and `total_stock_values` are removed:"
   ]
  },
  {
   "cell_type": "code",
   "execution_count": 20,
   "metadata": {
    "collapsed": false
   },
   "outputs": [
    {
     "name": "stdout",
     "output_type": "stream",
     "text": [
      "Pipeline(steps=[('features', FeatureUnion(n_jobs=1,\n",
      "       transformer_list=[('scale', MinMaxScaler(copy=True, feature_range=(0, 1)))],\n",
      "       transformer_weights=None)), ('classify', DecisionTreeClassifier(class_weight=None, criterion='gini', max_depth=None,\n",
      "            max_features=None, max_leaf_nodes=None, min_samples_leaf=1,\n",
      "            min_samples_split=2, min_weight_fraction_leaf=0.0,\n",
      "            random_state=13, splitter='best'))])\n",
      "\tAccuracy: 0.80827\tPrecision: 0.25881\tRecall: 0.23500\tF1: 0.24633\tF2: 0.23941\n",
      "\tTotal predictions: 15000\tTrue positives:  470\tFalse positives: 1346\tFalse negatives: 1530\tTrue negatives: 11654\n",
      "\n"
     ]
    }
   ],
   "source": [
    "hide_me\n",
    "\n",
    "features_to_test_no_aggregates = [\n",
    "    'poi',\n",
    "    'bonus',\n",
    "    'salary',\n",
    "    'deferral_payments',\n",
    "    'deferred_income',\n",
    "    'director_fees',\n",
    "    'exercised_stock_options',\n",
    "    'expenses',\n",
    "    'from_messages',\n",
    "    'from_poi_to_this_person',\n",
    "    'from_this_person_to_poi',\n",
    "    'loan_advances',\n",
    "    'long_term_incentive',\n",
    "    'other',\n",
    "    'restricted_stock',\n",
    "    'restricted_stock_deferred',\n",
    "    'salary',\n",
    "    'shared_receipt_with_poi',\n",
    "    'to_messages'\n",
    "]\n",
    "\n",
    "combined_features = FeatureUnion([\n",
    "        ('scale', MinMaxScaler())\n",
    "    ])\n",
    "\n",
    "estimators = [\n",
    "    ('features', combined_features),\n",
    "    ('classify', DecisionTreeClassifier(random_state=random))\n",
    "]\n",
    "\n",
    "pclf = Pipeline(estimators)\n",
    "\n",
    "test_classifier(pclf, data_dict_updated, features_to_test_no_aggregates)"
   ]
  },
  {
   "cell_type": "markdown",
   "metadata": {},
   "source": [
    "As it turned out it is better to remove `total_payments` and `total_stock_value`. As you see later when we created other aggregates for message ratio this is not the case i.e. F1 score improved by adding both aggregates and their substances."
   ]
  },
  {
   "cell_type": "markdown",
   "metadata": {},
   "source": [
    "### 5.2. Will imputing be useful in our dataset?\n",
    "Imputing is the process of replacing missing values with either 'mean', 'median', or 'most_frequent' values, in hope that they will be more statistically insignificant rather than replacing missing values with 0.\n",
    "\n",
    "However, we do not need this in our dataset since NaN values in our dataset are really 0. This was proven from the raw data that when these values, including 0 values totalled they accumulated into `total_payments` and `total_stock_value`."
   ]
  },
  {
   "cell_type": "code",
   "execution_count": 21,
   "metadata": {
    "collapsed": false
   },
   "outputs": [],
   "source": [
    "### Convert all NaN values to 0.\n",
    "hide_me\n",
    "\n",
    "data_dict_zero = copy.deepcopy(data_dict_updated)\n",
    "\n",
    "for name, item in data_dict_zero.items():\n",
    "    for key in features_to_test:\n",
    "        if item[key] == 'NaN':\n",
    "            data_dict_zero[name][key] = 0"
   ]
  },
  {
   "cell_type": "markdown",
   "metadata": {},
   "source": [
    "## 6. Feature Engineering\n",
    "Let's try to create new feature(s) and see if that improves our precision and recall store.\n",
    "\n",
    "### 6.1. Creating email ratio features\n",
    "\n",
    "There are two new features that could be potentially useful:\n",
    "1. `from_this_person_to_poi_ratio`: Messages sent from this person to pois compared to all messages sent by this person.\n",
    "2. `from_poi_to_this_person_ratio`: Messages received by this person from pois compared to all messages received by this person."
   ]
  },
  {
   "cell_type": "code",
   "execution_count": 22,
   "metadata": {
    "collapsed": false
   },
   "outputs": [
    {
     "name": "stdout",
     "output_type": "stream",
     "text": [
      "From This Person to POI Ratio\n",
      "count    145.000000\n",
      "mean     0.109164  \n",
      "std      0.185513  \n",
      "min      0.000000  \n",
      "25%      0.000000  \n",
      "50%      0.000000  \n",
      "75%      0.198436  \n",
      "max      1.000000  \n",
      "Name: from_this_person_to_poi_ratio, dtype: float64\n",
      "   poi  from_this_person_to_poi_ratio  from_this_person_to_poi  from_messages\n",
      "0  0    0.029613                       65                       2195         \n",
      "1  0    0.000000                       0                        0            \n",
      "2  0    0.000000                       0                        29           \n",
      "3  0    0.000000                       0                        0            \n",
      "4  0    0.000000                       0                        0            \n",
      "\n",
      "\n",
      "From POI to This Person Ratio\n",
      "count    145.000000\n",
      "mean     0.022516  \n",
      "std      0.036339  \n",
      "min      0.000000  \n",
      "25%      0.000000  \n",
      "50%      0.004885  \n",
      "75%      0.029817  \n",
      "max      0.217341  \n",
      "Name: from_poi_to_this_person_ratio, dtype: float64\n",
      "   poi  from_poi_to_this_person_ratio  from_poi_to_this_person  to_messages\n",
      "0  0    0.016196                       47                       2902       \n",
      "1  0    0.000000                       0                        0          \n",
      "2  0    0.068905                       39                       566        \n",
      "3  0    0.000000                       0                        0          \n",
      "4  0    0.000000                       0                        0          \n"
     ]
    }
   ],
   "source": [
    "### Create and display the new features we just created\n",
    "hide_me\n",
    "\n",
    "# fe stands for Feature Engineered, in case you wondered...\n",
    "data_dict_fe = data_dict_zero\n",
    "\n",
    "for name, item in data_dict_fe.items():\n",
    "    data_dict_fe[name]['from_this_person_to_poi_ratio'] = 0\n",
    "    data_dict_fe[name]['from_poi_to_this_person_ratio'] = 0\n",
    "    if item['from_messages'] > 0:\n",
    "        data_dict_fe[name]['from_this_person_to_poi_ratio'] = float(item['from_this_person_to_poi']) / float(item['from_messages'])\n",
    "    if item['to_messages'] > 0:\n",
    "        data_dict_fe[name]['from_poi_to_this_person_ratio'] = float(item['from_poi_to_this_person']) / float(item['to_messages'])\n",
    "\n",
    "df_fe = to_pandas(data_dict_fe)\n",
    "print \"From This Person to POI Ratio\"\n",
    "print df_fe['from_this_person_to_poi_ratio'].describe()\n",
    "print df_fe.ix[:,['poi', 'from_this_person_to_poi_ratio', 'from_this_person_to_poi', 'from_messages']].head(5)\n",
    "\n",
    "print \"\\n\"\n",
    "print \"From POI to This Person Ratio\"\n",
    "print df_fe['from_poi_to_this_person_ratio'].describe()\n",
    "print df_fe.ix[:,['poi', 'from_poi_to_this_person_ratio', 'from_poi_to_this_person', 'to_messages']].head(5)"
   ]
  },
  {
   "cell_type": "markdown",
   "metadata": {},
   "source": [
    "Let's use them in our prediction model in place of their substances (`from_this_person_to_poi`, `from_messages`, etc.)."
   ]
  },
  {
   "cell_type": "code",
   "execution_count": 23,
   "metadata": {
    "collapsed": false
   },
   "outputs": [
    {
     "name": "stdout",
     "output_type": "stream",
     "text": [
      "Pipeline(steps=[('features', FeatureUnion(n_jobs=1,\n",
      "       transformer_list=[('scale', MinMaxScaler(copy=True, feature_range=(0, 1)))],\n",
      "       transformer_weights=None)), ('classify', DecisionTreeClassifier(class_weight=None, criterion='gini', max_depth=None,\n",
      "            max_features=None, max_leaf_nodes=None, min_samples_leaf=1,\n",
      "            min_samples_split=2, min_weight_fraction_leaf=0.0,\n",
      "            random_state=13, splitter='best'))])\n",
      "\tAccuracy: 0.82433\tPrecision: 0.33316\tRecall: 0.31700\tF1: 0.32488\tF2: 0.32011\n",
      "\tTotal predictions: 15000\tTrue positives:  634\tFalse positives: 1269\tFalse negatives: 1366\tTrue negatives: 11731\n",
      "\n"
     ]
    }
   ],
   "source": [
    "features_list_fe = [\n",
    "    'poi',\n",
    "    'bonus',\n",
    "    'salary',\n",
    "    'deferral_payments',\n",
    "    'deferred_income',\n",
    "    'director_fees',\n",
    "    'exercised_stock_options',\n",
    "    'expenses',\n",
    "    'from_poi_to_this_person_ratio',\n",
    "    'from_this_person_to_poi_ratio',\n",
    "    'loan_advances',\n",
    "    'long_term_incentive',\n",
    "    'other',\n",
    "    'restricted_stock',\n",
    "    'restricted_stock_deferred',\n",
    "    'salary',\n",
    "    'shared_receipt_with_poi'\n",
    "]\n",
    "\n",
    "combined_features_fe = FeatureUnion([\n",
    "        ('scale', MinMaxScaler())\n",
    "    ])\n",
    "\n",
    "estimators_fe = [\n",
    "    ('features', combined_features_fe),\n",
    "    ('classify', DecisionTreeClassifier(random_state=random))\n",
    "]\n",
    "\n",
    "# Rebuilding the classifier\n",
    "pclf_fe = Pipeline(estimators_fe)\n",
    "\n",
    "test_classifier(pclf_fe, data_dict_fe, features_list_fe)"
   ]
  },
  {
   "cell_type": "markdown",
   "metadata": {},
   "source": [
    "Alright, seems like it does improve our prediction model even further."
   ]
  },
  {
   "cell_type": "markdown",
   "metadata": {},
   "source": [
    "### 6.2. Importance rank of all features\n",
    "Below is a list of feature ranks, ordered by best to worst."
   ]
  },
  {
   "cell_type": "code",
   "execution_count": 24,
   "metadata": {
    "collapsed": false,
    "scrolled": true
   },
   "outputs": [
    {
     "name": "stdout",
     "output_type": "stream",
     "text": [
      "Feature ranking:\n",
      "[ 5  8 15 10  7 11 12  0 14 13  9  6  4  3  2  1]\n",
      "1. exercised_stock_options (0.40)\n",
      "2. from_this_person_to_poi_ratio (0.13)\n",
      "3. shared_receipt_with_poi (0.13)\n",
      "4. long_term_incentive (0.12)\n",
      "5. from_poi_to_this_person_ratio (0.11)\n",
      "6. other (0.07)\n",
      "7. restricted_stock (0.03)\n",
      "8. bonus (0.01)\n",
      "9. salary (0.00)\n",
      "10. restricted_stock_deferred (0.00)\n",
      "11. loan_advances (0.00)\n",
      "12. expenses (0.00)\n",
      "13. director_fees (0.00)\n",
      "14. deferred_income (0.00)\n",
      "15. deferral_payments (0.00)\n",
      "16. salary (0.00)\n"
     ]
    }
   ],
   "source": [
    "hide_me\n",
    "importances = pclf_fe.steps[-1][1].feature_importances_\n",
    "indices = np.argsort(importances)[::-1]\n",
    "\n",
    "# Print the feature ranking\n",
    "print(\"Feature ranking:\")\n",
    "print indices\n",
    "\n",
    "for f in range(16):\n",
    "    # [1:] is important since the first item is \"poi\"!\n",
    "    print(\"%d. %s (%0.2f)\" % (f + 1, features_list_fe[1:][indices[f]], importances[indices[f]]))"
   ]
  },
  {
   "cell_type": "markdown",
   "metadata": {},
   "source": [
    "Looks like the newly created ratio features ranked quite high in their importance."
   ]
  },
  {
   "cell_type": "markdown",
   "metadata": {},
   "source": [
    "### 6.3. Is NOT including the substances of our new features better for the model?\n",
    "Out of curiosity, let's try including all the substances into our list of features and see if that improves or degrades our model. Below is the result of an exactly similar code as above, but with `from_poi_to_this_person`, `from_this_person_to_poi`, `to_messages`, `from_messages` included in our features:"
   ]
  },
  {
   "cell_type": "code",
   "execution_count": 25,
   "metadata": {
    "collapsed": false
   },
   "outputs": [
    {
     "name": "stdout",
     "output_type": "stream",
     "text": [
      "Pipeline(steps=[('features', FeatureUnion(n_jobs=1,\n",
      "       transformer_list=[('scale', MinMaxScaler(copy=True, feature_range=(0, 1)))],\n",
      "       transformer_weights=None)), ('classify', DecisionTreeClassifier(class_weight=None, criterion='gini', max_depth=None,\n",
      "            max_features=None, max_leaf_nodes=None, min_samples_leaf=1,\n",
      "            min_samples_split=2, min_weight_fraction_leaf=0.0,\n",
      "            random_state=13, splitter='best'))])\n",
      "\tAccuracy: 0.81827\tPrecision: 0.30547\tRecall: 0.28500\tF1: 0.29488\tF2: 0.28887\n",
      "\tTotal predictions: 15000\tTrue positives:  570\tFalse positives: 1296\tFalse negatives: 1430\tTrue negatives: 11704\n",
      "\n"
     ]
    }
   ],
   "source": [
    "hide_me\n",
    "features_list_fe2 = [\n",
    "    'poi',\n",
    "    'bonus',\n",
    "    'salary',\n",
    "    'deferral_payments',\n",
    "    'deferred_income',\n",
    "    'director_fees',\n",
    "    'exercised_stock_options',\n",
    "    'expenses',\n",
    "    'from_poi_to_this_person_ratio',\n",
    "    'from_this_person_to_poi_ratio',\n",
    "    'from_poi_to_this_person',\n",
    "    'from_this_person_to_poi',\n",
    "    'from_messages',\n",
    "    'to_messages',\n",
    "    'loan_advances',\n",
    "    'long_term_incentive',\n",
    "    'other',\n",
    "    'restricted_stock',\n",
    "    'restricted_stock_deferred',\n",
    "    'salary',\n",
    "    'shared_receipt_with_poi'\n",
    "]\n",
    "\n",
    "combined_features_fe2 = FeatureUnion([\n",
    "        ('scale', MinMaxScaler())\n",
    "    ])\n",
    "\n",
    "estimators_fe2 = [\n",
    "    ('features', combined_features_fe2),\n",
    "    ('classify', DecisionTreeClassifier(random_state=random))\n",
    "]\n",
    "\n",
    "# Rebuilding the classifier\n",
    "pclf_fe2 = Pipeline(estimators_fe2)\n",
    "\n",
    "test_classifier(pclf_fe2, data_dict_fe, features_list_fe2)"
   ]
  },
  {
   "cell_type": "code",
   "execution_count": 26,
   "metadata": {
    "collapsed": false
   },
   "outputs": [
    {
     "name": "stdout",
     "output_type": "stream",
     "text": [
      "Feature ranking:\n",
      "[ 5 19  8 14 16  9 13 12 11 10 18 15  7  6 17  4  3  2  1  0]\n",
      "1. exercised_stock_options (0.40)\n",
      "2. shared_receipt_with_poi (0.19)\n",
      "3. from_this_person_to_poi_ratio (0.13)\n",
      "4. long_term_incentive (0.12)\n",
      "5. restricted_stock (0.09)\n",
      "6. from_poi_to_this_person (0.07)\n",
      "7. loan_advances (0.00)\n",
      "8. to_messages (0.00)\n",
      "9. from_messages (0.00)\n",
      "10. from_this_person_to_poi (0.00)\n",
      "11. salary (0.00)\n",
      "12. other (0.00)\n",
      "13. from_poi_to_this_person_ratio (0.00)\n",
      "14. expenses (0.00)\n",
      "15. restricted_stock_deferred (0.00)\n",
      "16. director_fees (0.00)\n",
      "17. deferred_income (0.00)\n",
      "18. deferral_payments (0.00)\n",
      "19. salary (0.00)\n",
      "20. bonus (0.00)\n"
     ]
    }
   ],
   "source": [
    "hide_me\n",
    "importances = pclf_fe2.steps[-1][1].feature_importances_\n",
    "indices = np.argsort(importances)[::-1]\n",
    "\n",
    "# Print the feature ranking\n",
    "print(\"Feature ranking:\")\n",
    "print indices\n",
    "\n",
    "for f in range(20):\n",
    "    # [1:] is important since the first item is \"poi\"!\n",
    "    print(\"%d. %s (%0.2f)\" % (f + 1, features_list_fe2[1:][indices[f]], importances[indices[f]]))"
   ]
  },
  {
   "cell_type": "markdown",
   "metadata": {},
   "source": [
    "Yep, seems like, contrary to what we previously analyzed when working with `total_salaries` and `total_stock_value` where it was better to remove the aggregates but keep the substances, in this case it is better to remove the substances but keep the aggregates."
   ]
  },
  {
   "cell_type": "markdown",
   "metadata": {},
   "source": [
    "## 7. Text Learning From Emails\n",
    "Emails sent and received by Enron's employees are publicly available for [download](https://www.cs.cmu.edu/~./enron/). In this section I attempt to load the dataset and see if we can improve the prediction with them added into our features.\n",
    "\n",
    "To do this, first I loaded all emails from their respective directories, then vectorize and combine them with our previous features, then classify them.\n",
    "\n",
    "I used sklearn's implementation of Tfidf algorithm to vectorize the messages using the module TfidfVectorizer.\n",
    "\n",
    "### 7.1. Initial Tfidf Implementation\n",
    "Prior to implementing TfidfVectorizer in our dataset, I wanted to find a proof if it was going to be useful. I created a small script to test classfying only vectorized words in [\"Bag of Words Implementation\" document](https://jaycode.github.io/enron/bag-of-words-implementation.html). The quality metrics given at the end was as follows:\n",
    "\n",
    "```\n",
    "DecisionTreeClassifier(class_weight=None, criterion='gini', max_depth=None,\n",
    "            max_features=None, max_leaf_nodes=None, min_samples_leaf=1,\n",
    "            min_samples_split=2, min_weight_fraction_leaf=0.0,\n",
    "            random_state=13, splitter='best')\n",
    "\tAccuracy: 0.85665\tPrecision: 0.65509\tRecall: 0.25822\tF1: 0.37042\tF2: 0.29382\n",
    "```\n",
    "\n",
    "That looks promising. We get higher F1 and F2 scores when predicting POI based on the emails they sent and received. With this predictor, we can pass in an email message and from there the system would decide the likelihood of it belongs to a POI or non-POI. This requires a different way of testing the model thus we cannot really use this with our tester function and compare it with our results so far."
   ]
  },
  {
   "cell_type": "code",
   "execution_count": 27,
   "metadata": {
    "collapsed": false
   },
   "outputs": [
    {
     "name": "stdout",
     "output_type": "stream",
     "text": [
      "Wall time: 1min 1s\n"
     ]
    }
   ],
   "source": [
    "%%time\n",
    "hide_me\n",
    "import os\n",
    "import sys\n",
    "sys.path.append(\"../tools/\")\n",
    "from parse_out_email_text import parseOutText\n",
    "\n",
    "### Warning! running this script will take a really long time, not to mention that you will need a copy of \n",
    "### Enron's email addresses from Udacity's Into to Machine Learning course.\n",
    "### Download this file instead (400+Mb) https://www.dropbox.com/s/6o79pqvxrp0xylv/enron_emails_all_words.pkl?dl=0\n",
    "### Otherwise you can safely skip the scripts in this section and move on to next one.\n",
    "\n",
    "# Change this to where you want all words pickle document to be kept.\n",
    "all_words_path = 'D:\\\\Projects\\\\data_science\\\\nanodegree_data_analyst\\\\intro_to_ml\\\\enron_emails_all_words.pkl'\n",
    "\n",
    "\n",
    "\n",
    "word_data = []\n",
    "key_data = []\n",
    "email_types = []\n",
    "poi_data = []\n",
    "# temp_counter = 0\n",
    "\n",
    "if (os.path.isfile(all_words_path)):\n",
    "    all_words = cPickle.load(open(all_words_path, \"r\"))\n",
    "    word_data, key_data, email_types, poi_data = zip(*all_words)\n",
    "else:\n",
    "    dirpath = 'emails_by_address/'\n",
    "    filenames = next(os.walk(dirpath))[2]\n",
    "    for key, value in data_dict_fe.items():\n",
    "        if value['email_address'] != 0:\n",
    "            paths = [\n",
    "                dirpath + 'from_' + value['email_address'] + '.txt',\n",
    "                dirpath + 'to_' + value['email_address'] + '.txt',\n",
    "            ]\n",
    "            for idx, path in enumerate(paths):\n",
    "                if os.path.isfile(path):\n",
    "                    print \"reading\", path, '...'\n",
    "                    email_list = open(path, 'r')\n",
    "                    for email_path in email_list:\n",
    "                        ### only look at first 100 emails when developing\n",
    "                        ### once everything is working, remove this line to run over full dataset\n",
    "                        # temp_counter += 1\n",
    "                        # if temp_counter < 100:\n",
    "                        email_path = '..' + email_path[19:-2]\n",
    "                        if os.path.isfile(email_path):\n",
    "                            email = open(email_path, 'r')\n",
    "                            text = parseOutText(email)\n",
    "                            word_data.append(text)\n",
    "                            key_data.append(key)\n",
    "                            poi_data.append(data_dict_fe[key]['poi'])\n",
    "                            if idx == 0:\n",
    "                                email_types.append('from')\n",
    "                            else:\n",
    "                                email_types.append('to')\n",
    "    all_words = zip(word_data, key_data, email_types, poi_data)\n",
    "    cPickle.dump(all_words, open(all_words_path, \"w\") )"
   ]
  },
  {
   "cell_type": "markdown",
   "metadata": {},
   "source": [
    "### 7.2. Pipeline of our predictor\n",
    "\n",
    "I created a Pipeline with custom TfidfVectorizer and MinMaxScaler classes where they would be compatible to our data model. This way we can use it with our tester.\n",
    "\n",
    "These are step-by-step processes of this Pipeline:\n",
    "1. Combine the messages for each person i.e. one person one document, then tfidf the messages.\n",
    "2. MinMax scale non-message features as we did previously.\n",
    "3. Combine the features resulted from both of above steps.\n",
    "4. Some people in our dataset do not have any message associated with them, resulting in NaN values in some message related features. We need to run the features through an Imputer to convert these NaN values into statistically insignificant values.\n",
    "5. Reduce features dimensionality through PCA algorithm to help them generalize better, since with this we end up with 100 additional features from the words alone.\n",
    "6. And finally classify the dataset through DecisionTreeClassifier."
   ]
  },
  {
   "cell_type": "code",
   "execution_count": 28,
   "metadata": {
    "collapsed": false,
    "scrolled": true
   },
   "outputs": [],
   "source": [
    "hide_me\n",
    "\n",
    "from sklearn.base import BaseEstimator, TransformerMixin\n",
    "from sklearn.feature_extraction.text import TfidfVectorizer\n",
    "from sklearn.decomposition import PCA\n",
    "\n",
    "### FeatureCombiner. Used to combine the features returned from transformers in FeatureUnion.\n",
    "\n",
    "class FeaturesCombiner(BaseEstimator, TransformerMixin):\n",
    "    def fit(self, x, y=None):\n",
    "        return self\n",
    "    \n",
    "    def transform(self, x):\n",
    "        ### SAMPLE CODE 1:\n",
    "        ### Enable the following sample code to find out FeatureUnion's behavior.\n",
    "#         print \"len x: \", len(x[0])\n",
    "#         print \"x16: \", x[0][16]\n",
    "#         print \"x34: \", x[0][34]\n",
    "#         print \"x52: \", x[0][52]\n",
    "\n",
    "        new_x = range(len(x))\n",
    "        for idx, value in enumerate(x):\n",
    "            # Get 1/3 of features\n",
    "            new_values = value[:(len(value)/3)]\n",
    "            idx_to_delete_list = []\n",
    "            for f_idx, feature in enumerate(new_values):\n",
    "                # Flatten any dict found in x\n",
    "                if isinstance(feature, (dict)):\n",
    "                    new_values = numpy.concatenate((new_values, feature.values()), axis=0)\n",
    "                    idx_to_delete_list.append(f_idx)\n",
    "            new_values = np.delete(new_values, idx_to_delete_list, 0)\n",
    "            new_x[idx] = new_values\n",
    "        return new_x\n",
    "    \n",
    "### Custom TfidfVectorizer. Instead of accepting only list of documents,\n",
    "### I made it compatible with data_dict from our project.\n",
    "\n",
    "class MyTfidfVectorizer(TfidfVectorizer):\n",
    "    def __init__(self, input='content', encoding='utf-8',\n",
    "                 decode_error='strict', strip_accents=None, lowercase=True,\n",
    "                 preprocessor=None, tokenizer=None, analyzer='word',\n",
    "                 stop_words=None, token_pattern=r\"(?u)\\b\\w\\w+\\b\",\n",
    "                 ngram_range=(1, 1), max_df=1.0, min_df=1,\n",
    "                 max_features=None, vocabulary=None, binary=False,\n",
    "                 dtype=np.int64, norm='l2', use_idf=True, smooth_idf=True,\n",
    "                 sublinear_tf=False, feature_id=None, feature_prefix='to_'):\n",
    "        self.feature_id = feature_id\n",
    "        self.feature_prefix = feature_prefix\n",
    "        super(MyTfidfVectorizer, self).__init__(\n",
    "            input=input, encoding=encoding, decode_error=decode_error,\n",
    "            strip_accents=strip_accents, lowercase=lowercase,\n",
    "            preprocessor=preprocessor, tokenizer=tokenizer, analyzer=analyzer,\n",
    "            stop_words=stop_words, token_pattern=token_pattern,\n",
    "            ngram_range=ngram_range, max_df=max_df, min_df=min_df,\n",
    "            max_features=max_features, vocabulary=vocabulary, binary=binary,\n",
    "            dtype=dtype)\n",
    "\n",
    "    def fit(self, x, y=None):\n",
    "        documents, document_keys = self.get_documents_from_data_dict(x)\n",
    "        # Sometimes we ends up with data woth no documents, and that is alright\n",
    "        if len(documents) != 0:\n",
    "            super(MyTfidfVectorizer, self).fit(documents, y=y)\n",
    "        return self\n",
    "    \n",
    "    def transform(self, x):\n",
    "        documents, document_keys = self.get_documents_from_data_dict(x)\n",
    "        # Sometimes we ends up with data woth no documents, and that is alright\n",
    "        if len(documents) == 0:\n",
    "            transformed_docs = []\n",
    "        else:\n",
    "            transformed_docs = super(MyTfidfVectorizer, self).transform(documents)\n",
    "        x = self.attach_results_into_data_dict(x, transformed_docs, document_keys)\n",
    "        return x\n",
    "    \n",
    "    def fit_transform(self, x, y=None):\n",
    "        documents, document_keys = self.get_documents_from_data_dict(x)\n",
    "        # Sometimes we ends up with data woth no documents, and that is alright\n",
    "        if len(documents) == 0:\n",
    "            transformed_docs = []\n",
    "        else:\n",
    "            transformed_docs = super(MyTfidfVectorizer, self).fit_transform(documents, y=y)\n",
    "        x = self.attach_results_into_data_dict(x, transformed_docs, document_keys)\n",
    "        return x\n",
    "    \n",
    "    # Getting only the text documents from given dictionary.\n",
    "    def get_documents_from_data_dict(self, data_dict):\n",
    "        documents = []\n",
    "        document_keys = []\n",
    "        for idx, value in enumerate(data_dict):\n",
    "            if len(value[self.feature_id]) > 0:\n",
    "                documents.append(' '.join(value[self.feature_id]))\n",
    "                document_keys.extend([idx])\n",
    "        # In here we will end up with:\n",
    "        # - documents: a list of all email messages of everyone.\n",
    "        # - document_keys: a list of ids each document belong to\n",
    "        \n",
    "        ### SAMPLE CODE 2:\n",
    "        ### Small sample set for development:\n",
    "#         if self.feature_id == 17:\n",
    "#             documents = ['this is text number 1', 'what a good day this is']\n",
    "#         else:\n",
    "#             documents = ['this is text number 2', 'what a bad day this is']\n",
    "#         document_keys = [0, 1]\n",
    "        \n",
    "        return (documents, document_keys)\n",
    "    \n",
    "    # Reattach transformed texts back into list of features.\n",
    "    def attach_results_into_data_dict(self, x, transformed_docs, document_keys):\n",
    "        for idx, value in enumerate(x):\n",
    "            scores = dict()\n",
    "            for f_idx, feature_name in enumerate(self.get_feature_names()):\n",
    "                if idx in document_keys:\n",
    "                    document_key = document_keys.index(idx)\n",
    "                    scores[self.feature_prefix + feature_name] = transformed_docs[document_key, f_idx]\n",
    "                else:\n",
    "                    scores[self.feature_prefix + feature_name] = None\n",
    "            # We want to replace feature number `self.feature_id` in x with\n",
    "            # [list of scores], to later be combined with FeaturesCombiner.\n",
    "            x[idx][self.feature_id] = scores\n",
    "        return x\n",
    "\n",
    "### MinMaxScaler made compatible with our data_dict structure.\n",
    "\n",
    "class MyMinMaxScaler(MinMaxScaler):\n",
    "    # feature_ids: Feature ids to apply scaling at. None means all.\n",
    "    def __init__(self, feature_range=(0, 1), copy=True, feature_ids=None):\n",
    "        super(MyMinMaxScaler, self).__init__(feature_range=feature_range, copy=copy)\n",
    "        self.feature_ids = feature_ids\n",
    "        \n",
    "    def fit(self, x, y=None):\n",
    "        x_selected = self.select_x(x)\n",
    "        return super(MyMinMaxScaler, self).fit(x_selected, y)\n",
    "    \n",
    "    def transform(self, X):\n",
    "        x_selected = self.select_x(X)\n",
    "        x_transformed = super(MyMinMaxScaler, self).transform(x_selected)\n",
    "        X_updated = range(len(X))\n",
    "        for idx, original_features in enumerate(X):\n",
    "            X_updated[idx] = x_transformed[idx]\n",
    "            ### SAMPLE CODE 3:\n",
    "            ### Enable these to understand how transformation and concatenation works.\n",
    "#             print \"before concat: \", shape(X_updated[idx])\n",
    "#             print \"len of x: \", len(X[idx])\n",
    "#             print \"len of x_transformed: \", len(x_transformed[idx])\n",
    "#             print \"concat with: \", X[idx][len(x_transformed[idx]):]\n",
    "            X_updated[idx] = numpy.concatenate((X_updated[idx], X[idx][len(x_transformed[idx]):]),\n",
    "                                               axis=0)\n",
    "#             print \"after concat: \", shape(X_updated[idx])\n",
    "        return X_updated\n",
    "    \n",
    "    # Select part of features to scale.\n",
    "    def select_x(self, x):\n",
    "        x_selected = []\n",
    "        for item in x:\n",
    "            item_sel = []\n",
    "            for idx in self.feature_ids:\n",
    "                item_sel.append(item[idx])\n",
    "            x_selected.append(item_sel)\n",
    "        return x_selected"
   ]
  },
  {
   "cell_type": "code",
   "execution_count": 29,
   "metadata": {
    "collapsed": false
   },
   "outputs": [],
   "source": [
    "### Insert word data into our latest dataset\n",
    "hide_me\n",
    "\n",
    "data_dict_with_words = copy.deepcopy(data_dict_fe)\n",
    "\n",
    "email_messages = []\n",
    "for idx, message in enumerate(word_data):\n",
    "    key = key_data[idx]\n",
    "    if email_types[idx] == 'from':\n",
    "        if 'from_messages_texts' not in data_dict_with_words[key].keys():\n",
    "            data_dict_with_words[key]['from_messages_texts'] = []\n",
    "        data_dict_with_words[key]['from_messages_texts'].append(message)\n",
    "    elif email_types[idx] == 'to':\n",
    "        if 'to_messages_texts' not in data_dict_with_words[key].keys():\n",
    "            data_dict_with_words[key]['to_messages_texts'] = []\n",
    "        data_dict_with_words[key]['to_messages_texts'].append(message)\n",
    "\n",
    "# For people without email messages:\n",
    "for key, value in data_dict_with_words.items():\n",
    "    if 'from_messages_texts' not in value.keys():\n",
    "        data_dict_with_words[key]['from_messages_texts'] = []\n",
    "    if 'to_messages_texts' not in value.keys():\n",
    "        data_dict_with_words[key]['to_messages_texts'] = []\n",
    "\n",
    "features_list_with_words = copy.deepcopy(features_list_fe)\n",
    "features_list_with_words.append('to_messages_texts')\n",
    "features_list_with_words.append('from_messages_texts')"
   ]
  },
  {
   "cell_type": "code",
   "execution_count": 32,
   "metadata": {
    "collapsed": false
   },
   "outputs": [],
   "source": [
    "hide_me\n",
    "\n",
    "from sklearn.preprocessing import Imputer\n",
    "\n",
    "pipeline = Pipeline([\n",
    "    ('union', FeatureUnion(\n",
    "        transformer_list=[\n",
    "            # Pipeline for standard bag-of-words model for \"to\" emails\n",
    "            ('email_to_bow', Pipeline([\n",
    "                ('tfidf', MyTfidfVectorizer(feature_prefix='to_', feature_id=features_list_with_words.index('to_messages_texts')-1,\n",
    "                                            sublinear_tf=True,\n",
    "                                            max_features=100, stop_words='english'))                \n",
    "            ])),\n",
    "                    \n",
    "            # Pipeline for standard bag-of-words model for \"from\" emails\n",
    "            ('email_from_bow', Pipeline([\n",
    "                ('tfidf', MyTfidfVectorizer(feature_prefix='from_', feature_id=features_list_with_words.index('from_messages_texts')-1,\n",
    "                                            sublinear_tf=True,\n",
    "                                            max_features=100, stop_words='english'))\n",
    "            ])),\n",
    "            \n",
    "            # Pipeline to scale non email message related features (salary, bonus, etc.)\n",
    "            ('min_max_scaler', MyMinMaxScaler(feature_ids=range(0, len(features_list_with_words)-3)))\n",
    "        ]\n",
    "    )),\n",
    "        \n",
    "    # At this point, our data that will be passed to features combiner contains items with, rather mysteriously,\n",
    "    # following features:\n",
    "    # [\n",
    "    #   (min_max scaled non-email features), {(dict of to messages scores)}, {(dict of from messages scores )}\n",
    "    #   (min_max scaled non-email features), {(dict of to messages scores)}, {(dict of from messages scores )}\n",
    "    #   (min_max scaled non-email features), {(dict of to messages scores)}, {(dict of from messages scores )}\n",
    "    # ]\n",
    "    #\n",
    "    # rather than (notice the commas as well as scores / texts):\n",
    "    #\n",
    "    # [\n",
    "    #   (unscaled non-email features), {(dict of to messages scores)}, [(list of from messages texts)],\n",
    "    #   (unscaled non-email features), {(dict of to messages scores)}, {(dict of from messages scores)},\n",
    "    #   (min_max scaled non-email features), {(dict of to messages scores)}, {(dict of from messages scores)}\n",
    "    # ]\n",
    "    #\n",
    "    # Perhaps it is something about the behaviors of FeatureUnion that we later need to investigate further.\n",
    "    # Uncomment SAMPLE CODE comments above to start investigation.\n",
    "    #\n",
    "    # In our features_combiner step below, we want to do two things:\n",
    "    # 1. Get 1/3 of our features.\n",
    "    # 2. Flatten our features into:\n",
    "    #    [(min_max scaled features), (to messages scores), (from messages scores)]\n",
    "    #    and later use them in our classifier step.        \n",
    "    ('features_combiner', FeaturesCombiner()),\n",
    "    (\"imputer\", Imputer(axis=0, missing_values=\"NaN\")),\n",
    "    ('dim_reduce', PCA(n_components=20)),\n",
    "    ('classifier', DecisionTreeClassifier(random_state=random)),\n",
    "])"
   ]
  },
  {
   "cell_type": "code",
   "execution_count": 33,
   "metadata": {
    "collapsed": false
   },
   "outputs": [
    {
     "name": "stdout",
     "output_type": "stream",
     "text": [
      "Pipeline(steps=[('union', FeatureUnion(n_jobs=1,\n",
      "       transformer_list=[('email_to_bow', Pipeline(steps=[('tfidf', MyTfidfVectorizer(analyzer='word', binary=False, decode_error='strict',\n",
      "         dtype=<type 'numpy.int64'>, encoding='utf-8', feature_id=16,\n",
      "         feature_prefix='to_', input='content', lo...  min_samples_split=2, min_weight_fraction_leaf=0.0,\n",
      "            random_state=13, splitter='best'))])\n",
      "\tAccuracy: 0.80000\tPrecision: 0.22222\tRecall: 0.20000\tF1: 0.21053\tF2: 0.20408\n",
      "\tTotal predictions:  150\tTrue positives:    4\tFalse positives:   14\tFalse negatives:   16\tTrue negatives:  116\n",
      "\n",
      "Wall time: 1min 39s\n"
     ]
    }
   ],
   "source": [
    "%%time\n",
    "hide_me\n",
    "### Used in development of feature_format to reimport that file.\n",
    "# import feature_format\n",
    "# feature_format = reload(sys.modules['feature_format'])\n",
    "# featureFormat = feature_format.featureFormat\n",
    "\n",
    "from sklearn import cross_validation\n",
    "\n",
    "# test if the function works by using few data.\n",
    "def test_pipeline(clf, data_dict, features_list, random):\n",
    "    # I had to update the function featureFormat to accept list in their values.\n",
    "    data = featureFormat(data_dict, features_list, sort_keys = True, to_np_array = False)\n",
    "    labels, features = targetFeatureSplit(data)\n",
    "    f_train, f_test, l_train, l_test = cross_validation.train_test_split(features, labels, test_size=0.95, random_state=random)\n",
    "    predictions = clf.fit(f_train, l_train)\n",
    "    l = clf.predict(f_train)\n",
    "\n",
    "import tester\n",
    "tester = reload(sys.modules['tester'])\n",
    "test_classifier = tester.test_classifier\n",
    "\n",
    "### Enable this line to test with smaller data\n",
    "# test_pipeline(pipeline, data_dict_with_words, features_list_with_words, random)\n",
    "test_classifier(pipeline, data_dict_with_words, features_list_with_words, folds=10, to_np_array = False)"
   ]
  },
  {
   "cell_type": "markdown",
   "metadata": {},
   "source": [
    "The scores were surprisingly low!\n",
    "\n",
    "The consequence of combining the messages was that it left us a much less documents to work with i.e. whereas before we have tens of thousands of emails, now we only have 111 data points to work with. Perhaps that was the main reason why we get really low precision and recall values.\n",
    "\n",
    "In addition to that, the runtime for vectorization is painfully slower than using our initial prediction model. Running 100 folds took about 3.5 minutes, and doubling that to 200 folds took 6 minutes 41 seconds, make it 500 and it took a whopping 18.6 minutes. I dare not go further. As comparison, so far we have been running 1000 folds in about 30 seconds.\n",
    "\n",
    "With 100 folds our F1 score was 0.28, with 200 folds it was 0.30, and 500 folds at 0.28.\n",
    "\n",
    "On the other hand, using merely email messages as shown in \"Bag of Words Implementation\" document gave us much higher F1 scores (about 0.37). However, since we cannot use our tester function to test it, we shall move forward with our best classifier so far in this document."
   ]
  },
  {
   "cell_type": "markdown",
   "metadata": {},
   "source": [
    "## 8. Pick An Algorithm\n",
    "\n",
    "Now that we have optimized our features, It is time to do the final step, to pick a classifier algorithm and later to tune it.\n",
    "\n",
    "### 8.1. Is our algorithm better than random guesses?\n",
    "\n",
    "I tend to think that, whichever algorithm we will end up with, that algorithm MUST show better performance than random guesses, otherwise why would we even use Machine Learning, right?\n",
    "\n",
    "This was the reason too in using Stratified Shuffle Split in our validation, which basically splitting and shuffling our training and testing dataset a few times, predict and score these sets, and calculate our total scores (accuracy, precision, recall, f1, and f2 scores). The default is running 1000 folds, meaning 1000 different splits and shuffles of training and testing data."
   ]
  },
  {
   "cell_type": "code",
   "execution_count": 34,
   "metadata": {
    "collapsed": false
   },
   "outputs": [
    {
     "name": "stdout",
     "output_type": "stream",
     "text": [
      "DummyClassifier(constant=None, random_state=13, strategy='stratified')\n",
      "\tAccuracy: 0.76933\tPrecision: 0.13500\tRecall: 0.13500\tF1: 0.13500\tF2: 0.13500\n",
      "\tTotal predictions: 15000\tTrue positives:  270\tFalse positives: 1730\tFalse negatives: 1730\tTrue negatives: 11270\n",
      "\n"
     ]
    }
   ],
   "source": [
    "hide_me\n",
    "from sklearn.dummy import DummyClassifier\n",
    "\n",
    "clf = DummyClassifier(random_state=random)\n",
    "\n",
    "test_classifier(clf, data_dict_fe, features_list_fe)"
   ]
  },
  {
   "cell_type": "markdown",
   "metadata": {},
   "source": [
    "Good, with random guesses we can only get 0.12 F1 score. That means machine learning does help a lot!\n",
    "\n",
    "### 8.2. Spot Checking\n",
    "\n",
    "Spot checking is basically a systematic way to test out different algorithms quickly. For this project, I am going to try only a handful of algorithms but with all the best practices as recommended by [this article](http://machinelearningmastery.com/why-you-should-be-spot-checking-algorithms-on-your-machine-learning-problems/).\n",
    "\n",
    "#### Algorithms\n",
    "There are four algorithms from four different categories that I am going to try:\n",
    "\n",
    "- DecisionTreeClassifier (from tree category)\n",
    "- SVC (from kernel category)\n",
    "- GaussianNB / Gaussian Naive Bayes (from bayesian category to work with continuous data)\n",
    "\n",
    "On the next step (section \"Tune The Algorithm\" below) we will run AdaBoostClassifier with the best of above three algorithms.\n",
    "\n",
    "#### Use basic tuning\n",
    "On each algorithm, I will tune only a few configuration for spot checking.\n",
    "\n",
    "#### Digging Deeper\n",
    "Once an algorithm out of a distinct category has proven to be better (in terms of F1-score and computational cost), we will try different algorithms within that category, with similar rules for tuning."
   ]
  },
  {
   "cell_type": "code",
   "execution_count": 35,
   "metadata": {
    "collapsed": false
   },
   "outputs": [],
   "source": [
    "hide_me\n",
    "### Testing algorithms from four different categories.\n",
    "from sklearn.tree import DecisionTreeClassifier\n",
    "from sklearn.svm import SVC\n",
    "from sklearn.naive_bayes import GaussianNB\n",
    "from sklearn.ensemble import AdaBoostClassifier\n",
    "\n",
    "from sklearn.metrics import f1_score\n",
    "from sklearn.grid_search import GridSearchCV\n",
    "\n",
    "combined_features = FeatureUnion([\n",
    "        ('scale', MinMaxScaler())\n",
    "    ])\n",
    "\n",
    "from sklearn.cross_validation import StratifiedShuffleSplit\n",
    "data_fe = featureFormat(data_dict_fe, features_list_fe, sort_keys = True)\n",
    "labels, feature_values = targetFeatureSplit(data_fe)\n",
    "folds = 1000\n",
    "cv = StratifiedShuffleSplit(\n",
    "     labels, folds, random_state=random)\n",
    "\n",
    "# from sklearn.cross_validation import train_test_split\n",
    "# feature_values, feature_values_test, labels, labels_test = train_test_split(\n",
    "#     feature_values, labels, test_size=0, random_state=random)\n",
    "# cv = None"
   ]
  },
  {
   "cell_type": "markdown",
   "metadata": {},
   "source": [
    "Result of running with DecisionTreeClassifier algorithm:"
   ]
  },
  {
   "cell_type": "code",
   "execution_count": 75,
   "metadata": {
    "collapsed": false
   },
   "outputs": [
    {
     "name": "stdout",
     "output_type": "stream",
     "text": [
      "The best parameters are {'classifier__max_features': 'auto', 'classifier__criterion': 'entropy'} with a score of 0.36\n"
     ]
    }
   ],
   "source": [
    "hide_me\n",
    "\n",
    "decision_tree_estimators = [\n",
    "    ('features', combined_features),\n",
    "    ('classifier', DecisionTreeClassifier(random_state=random))\n",
    "]\n",
    "\n",
    "# Parameters used in GridSearchCV\n",
    "decision_tree_parameters = [\n",
    "    {\n",
    "        'classifier__max_features': [None, 'auto', 'log2'],\n",
    "        'classifier__criterion': ['gini', 'entropy']\n",
    "    }\n",
    "]\n",
    "\n",
    "decision_tree_clf = Pipeline(decision_tree_estimators)\n",
    "\n",
    "# use verbose=n in GridSearchCV parameters to periodically update the output with results.\n",
    "# Very useful to relieve anxiety when running the algorithm.\n",
    "decision_tree_grid = GridSearchCV(decision_tree_clf, decision_tree_parameters, cv = cv, scoring='f1')\n",
    "decision_tree_grid.fit(feature_values, labels)\n",
    "\n",
    "print(\"The best parameters are %s with a score of %0.2f\"\n",
    "      % (decision_tree_grid.best_params_, decision_tree_grid.best_score_))"
   ]
  },
  {
   "cell_type": "code",
   "execution_count": 37,
   "metadata": {
    "collapsed": false
   },
   "outputs": [
    {
     "name": "stdout",
     "output_type": "stream",
     "text": [
      "Pipeline(steps=[('features', FeatureUnion(n_jobs=1,\n",
      "       transformer_list=[('scale', MinMaxScaler(copy=True, feature_range=(0, 1)))],\n",
      "       transformer_weights=None)), ('classifier', DecisionTreeClassifier(class_weight=None, criterion='entropy', max_depth=None,\n",
      "            max_features='auto', max_leaf_nodes=None, min_samples_leaf=1,\n",
      "            min_samples_split=2, min_weight_fraction_leaf=0.0,\n",
      "            random_state=13, splitter='best'))])\n",
      "\tAccuracy: 0.84380\tPrecision: 0.40902\tRecall: 0.38550\tF1: 0.39691\tF2: 0.38998\n",
      "\tTotal predictions: 15000\tTrue positives:  771\tFalse positives: 1114\tFalse negatives: 1229\tTrue negatives: 11886\n",
      "\n",
      "Wall time: 1.07 s\n"
     ]
    }
   ],
   "source": [
    "%%time\n",
    "hide_me\n",
    "### Then we test it with our tester code\n",
    "decision_tree_clf_fin = decision_tree_clf.set_params(**decision_tree_grid.best_params_)\n",
    "test_classifier(decision_tree_clf_fin, data_dict_fe, features_list_fe)"
   ]
  },
  {
   "cell_type": "code",
   "execution_count": 54,
   "metadata": {
    "collapsed": false,
    "scrolled": true
   },
   "outputs": [
    {
     "name": "stdout",
     "output_type": "stream",
     "text": [
      "The best parameters are {'classifier__class_weight': {0: 0.5, 1: 1}} with a score of 0.00\n"
     ]
    }
   ],
   "source": [
    "hide_me\n",
    "\n",
    "svm_estimators = [\n",
    "    ('features', combined_features),\n",
    "    ('classifier', SVC(random_state=random))    \n",
    "]\n",
    "\n",
    "svm_parameters = [\n",
    "    {\n",
    "        # http://scikit-learn.org/stable/modules/svm.html#tips-on-practical-use\n",
    "        # Lower C corresponds to more regularized estimation i.e. better for noisy data\n",
    "         'classifier__class_weight': [{1: 1, 0: 0.5}, {1: 0.8, 0: 0.3}, {1:1, 0:1}],\n",
    "    }\n",
    "]\n",
    "\n",
    "svm_clf = Pipeline(svm_estimators)\n",
    "\n",
    "svm_grid = GridSearchCV(svm_clf, svm_parameters, cv = cv, scoring='f1')\n",
    "int_labels = [int(i) for i in labels]\n",
    "svm_grid.fit(feature_values, int_labels)\n",
    "\n",
    "print(\"The best parameters are %s with a score of %0.2f\"\n",
    "      % (svm_grid.best_params_, svm_grid.best_score_))"
   ]
  },
  {
   "cell_type": "code",
   "execution_count": 39,
   "metadata": {
    "collapsed": false
   },
   "outputs": [
    {
     "name": "stdout",
     "output_type": "stream",
     "text": [
      "Pipeline(steps=[('features', FeatureUnion(n_jobs=1,\n",
      "       transformer_list=[('scale', MinMaxScaler(copy=True, feature_range=(0, 1)))],\n",
      "       transformer_weights=None)), ('classifier', SVC(C=1.0, cache_size=200, class_weight={0: 0.5, 1: 1}, coef0=0.0, degree=3,\n",
      "  gamma=0.0, kernel='rbf', max_iter=-1, probability=False, random_state=13,\n",
      "  shrinking=True, tol=0.001, verbose=False))])\n",
      "\tAccuracy: 0.86667\tPrecision: 0.00000\tRecall: 0.00000\tF1: 0.00000\tF2: 0.00000\n",
      "\tTotal predictions: 15000\tTrue positives:    0\tFalse positives:    0\tFalse negatives: 2000\tTrue negatives: 13000\n",
      "\n",
      "Wall time: 1.41 s\n"
     ]
    }
   ],
   "source": [
    "%%time\n",
    "hide_me\n",
    "### Then we test it with our tester code\n",
    "\n",
    "svm_clf_fin = svm_clf.set_params(**svm_grid.best_params_)\n",
    "test_classifier(svm_clf_fin, data_dict_fe, features_list_fe)"
   ]
  },
  {
   "cell_type": "markdown",
   "metadata": {},
   "source": [
    "Seems like for some reason Support Vector Machine Classifier is not usable in our problem set.\n",
    "\n",
    "Below is the result for GaussianNB:"
   ]
  },
  {
   "cell_type": "code",
   "execution_count": 40,
   "metadata": {
    "collapsed": false
   },
   "outputs": [
    {
     "name": "stdout",
     "output_type": "stream",
     "text": [
      "The best parameters are {} with a score of 0.29\n"
     ]
    }
   ],
   "source": [
    "hide_me\n",
    "\n",
    "nb_estimators = [\n",
    "    ('features', combined_features),\n",
    "    ('classifier', GaussianNB())    \n",
    "]\n",
    "\n",
    "nb_parameters = [\n",
    "    {\n",
    "        # GaussianNB has no configurations to set.\n",
    "    }\n",
    "]\n",
    "\n",
    "nb_clf = Pipeline(nb_estimators)\n",
    "\n",
    "nb_grid = GridSearchCV(nb_clf, nb_parameters, cv = cv, scoring='f1')\n",
    "nb_grid.fit(feature_values, labels)\n",
    "\n",
    "print(\"The best parameters are %s with a score of %0.2f\"\n",
    "      % (nb_grid.best_params_, nb_grid.best_score_))"
   ]
  },
  {
   "cell_type": "code",
   "execution_count": 41,
   "metadata": {
    "collapsed": false
   },
   "outputs": [
    {
     "name": "stdout",
     "output_type": "stream",
     "text": [
      "Pipeline(steps=[('features', FeatureUnion(n_jobs=1,\n",
      "       transformer_list=[('scale', MinMaxScaler(copy=True, feature_range=(0, 1)))],\n",
      "       transformer_weights=None)), ('classifier', GaussianNB())])\n",
      "\tAccuracy: 0.40287\tPrecision: 0.16722\tRecall: 0.87400\tF1: 0.28074\tF2: 0.47364\n",
      "\tTotal predictions: 15000\tTrue positives: 1748\tFalse positives: 8705\tFalse negatives:  252\tTrue negatives: 4295\n",
      "\n",
      "Wall time: 1.28 s\n"
     ]
    }
   ],
   "source": [
    "%%time\n",
    "hide_me\n",
    "### Then we test it with our tester code\n",
    "nb_clf_fin = nb_clf.set_params(**nb_grid.best_params_)\n",
    "test_classifier(nb_clf_fin, data_dict_fe, features_list_fe)"
   ]
  },
  {
   "cell_type": "markdown",
   "metadata": {},
   "source": [
    "### 8.3. Spot Checking Pole Position\n",
    "Here is the summary of spot checking we did above:\n",
    "\n",
    "```\n",
    "                        time (sec)   |   precision   |   recall   |   F1-score\n",
    "DecisionTreeClassifier  1.27             0.40902\t     0.38550      0.39691\n",
    "SVC                     1.42             0.0             0.0          0.0\n",
    "GaussianNB              1.3              0.16722         0.87400      0.28074\n",
    "```\n",
    "\n",
    "Looks like, all things being equal, DecisionTreeClassifier seems to be superior in our problem set. SVC on the other hand seems to have a problem predicting our dataset."
   ]
  },
  {
   "cell_type": "markdown",
   "metadata": {},
   "source": [
    "### 8.4. AdaBoost\n",
    "Often referred as \"the best out of the box\", AdaBoost improves the output of other weak learners by combining them into a weighted sum that represents the final output of the boosted classifier. When used with decision tree learning, information gathered at each stage of the AdaBoost algorithm about the relative 'hardness' of each training sample is fed into the tree growing algorithm such that later trees tend to focus on harder to classify examples. (excerpt from [Wikipedia](https://en.wikipedia.org/wiki/AdaBoost))\n",
    "\n",
    "Let's see whether AdaBoost would improve our model before we move further with tuning classifiers' configurations."
   ]
  },
  {
   "cell_type": "code",
   "execution_count": 42,
   "metadata": {
    "collapsed": false
   },
   "outputs": [
    {
     "name": "stdout",
     "output_type": "stream",
     "text": [
      "The best parameters are {'classifier__learning_rate': 0.1, 'classifier__base_estimator': DecisionTreeClassifier(class_weight=None, criterion='entropy', max_depth=None,\n",
      "            max_features='auto', max_leaf_nodes=None, min_samples_leaf=1,\n",
      "            min_samples_split=2, min_weight_fraction_leaf=0.0,\n",
      "            random_state=13, splitter='best'), 'classifier__n_estimators': 10} with a score of 0.35\n"
     ]
    }
   ],
   "source": [
    "hide_me\n",
    "### Setting AdaBoostClassifier with best parameters as found above\n",
    "ada_boost_estimators = [\n",
    "    ('features', combined_features),\n",
    "    ('classifier', AdaBoostClassifier(random_state=random))\n",
    "]\n",
    "\n",
    "# Best parameters used in our DecisionTreeClassifier.\n",
    "best_params = decision_tree_clf_fin.steps[-1][1].get_params()\n",
    "\n",
    "ada_boost_parameters = [\n",
    "    {\n",
    "        # Trying out AdaBoost with different weak classifiers.\n",
    "        'classifier__base_estimator': [DecisionTreeClassifier(**best_params)],\n",
    "        'classifier__n_estimators': [10, 50, 70],\n",
    "        'classifier__learning_rate': [0.1, 0.3, 0.7, 1]\n",
    "    }\n",
    "]\n",
    "\n",
    "ada_boost_clf = Pipeline(ada_boost_estimators)\n",
    "\n",
    "ada_boost_grid = GridSearchCV(ada_boost_clf, ada_boost_parameters, cv = cv, scoring='f1')\n",
    "ada_boost_grid.fit(feature_values, labels)\n",
    "\n",
    "print(\"The best parameters are %s with a score of %0.2f\"\n",
    "      % (ada_boost_grid.best_params_, ada_boost_grid.best_score_))"
   ]
  },
  {
   "cell_type": "code",
   "execution_count": 43,
   "metadata": {
    "collapsed": false
   },
   "outputs": [
    {
     "name": "stdout",
     "output_type": "stream",
     "text": [
      "Pipeline(steps=[('features', FeatureUnion(n_jobs=1,\n",
      "       transformer_list=[('scale', MinMaxScaler(copy=True, feature_range=(0, 1)))],\n",
      "       transformer_weights=None)), ('classifier', AdaBoostClassifier(algorithm='SAMME.R',\n",
      "          base_estimator=DecisionTreeClassifier(class_weight=None, criterion='entro... random_state=13, splitter='best'),\n",
      "          learning_rate=0.1, n_estimators=10, random_state=13))])\n",
      "\tAccuracy: 0.84387\tPrecision: 0.41000\tRecall: 0.38950\tF1: 0.39949\tF2: 0.39343\n",
      "\tTotal predictions: 15000\tTrue positives:  779\tFalse positives: 1121\tFalse negatives: 1221\tTrue negatives: 11879\n",
      "\n",
      "Wall time: 1.8 s\n"
     ]
    }
   ],
   "source": [
    "%%time\n",
    "hide_me\n",
    "### Then we test it with our tester code\n",
    "ada_boost_clf_fin = ada_boost_clf.set_params(**ada_boost_grid.best_params_)\n",
    "test_classifier(ada_boost_clf_fin, data_dict_fe, features_list_fe)"
   ]
  },
  {
   "cell_type": "markdown",
   "metadata": {},
   "source": [
    "AdaBoost classifier does seem to improve our model. Later we shall use AdaBoost to improve the most optimized version of our classifier.\n",
    "\n",
    "```\n",
    "                        time (sec)   |   precision   |   recall   |   F1-score\n",
    "DecisionTreeClassifier  1.27             0.40902\t     0.38550      0.39691\n",
    "AdaBoostClassifier      1.8              0.41000         0.38950      0.39949\n",
    "```\n",
    "\n",
    "### 8.5. Digging Deeper: Trying out other  algorithms within the winning category\n",
    "\n",
    "We can now be quite sure that tree estimators are better fitted to our problem set. There are a couple other algorithms in this category we can try out:\n",
    "\n",
    "- Iterative Dichotomiser 3 / ID3 (not implemented in sklearn)\n",
    "- C4.5 and C5.0 (DecisionTreeClassifier uses something similar to C4.5 called CART, C5.0 is not implemented in sklearn)\n",
    "- Chi-squared Automatic Interaction Detection / CHAID (not implemented in sklearn)\n",
    "- Decision Stump / this is just an alias of algorithms used in AdaBoost\n",
    "- Random Forest (RandomForestClassifier)\n",
    "- Multivariate Adaptive Regression Splines /MARS ([available outside of sklearn](https://github.com/jcrudy/py-earth) so let's not use it for now)\n",
    "- Gradient Boosting Machines / GBM (GradientBoostingClassifier)\n",
    "\n",
    "([This is the great article that covered this topic by the way](http://machinelearningmastery.com/a-tour-of-machine-learning-algorithms/))\n",
    "\n",
    "In this project I will just use algorithms that are supported by sklearn, so we will go ahead with testing out RandomForestClassifier and GradientBoostingClassifier, before tuning the classifiers."
   ]
  },
  {
   "cell_type": "code",
   "execution_count": 44,
   "metadata": {
    "collapsed": false
   },
   "outputs": [
    {
     "name": "stdout",
     "output_type": "stream",
     "text": [
      "The best parameters are {'classifier__max_features': None, 'classifier__criterion': 'entropy'} with a score of 0.21\n",
      "Wall time: 1min 12s\n"
     ]
    }
   ],
   "source": [
    "%%time\n",
    "### RandomForestClassifier\n",
    "hide_me\n",
    "\n",
    "from sklearn.ensemble import RandomForestClassifier\n",
    "\n",
    "random_forest_estimators = [\n",
    "    ('features', combined_features),\n",
    "    ('classifier', RandomForestClassifier(random_state=random))\n",
    "]\n",
    "\n",
    "# Parameters used in GridSearchCV\n",
    "random_forest_parameters = [\n",
    "    {\n",
    "        'classifier__max_features': [None, 'auto', 'log2'],\n",
    "        'classifier__criterion': ['gini', 'entropy']\n",
    "    }\n",
    "]\n",
    "\n",
    "random_forest_clf = Pipeline(random_forest_estimators)\n",
    "\n",
    "random_forest_grid = GridSearchCV(random_forest_clf, random_forest_parameters, cv = cv, scoring='f1')\n",
    "random_forest_grid.fit(feature_values, labels)\n",
    "\n",
    "print(\"The best parameters are %s with a score of %0.2f\"\n",
    "      % (random_forest_grid.best_params_, random_forest_grid.best_score_))"
   ]
  },
  {
   "cell_type": "code",
   "execution_count": 45,
   "metadata": {
    "collapsed": false
   },
   "outputs": [
    {
     "name": "stdout",
     "output_type": "stream",
     "text": [
      "Pipeline(steps=[('features', FeatureUnion(n_jobs=1,\n",
      "       transformer_list=[('scale', MinMaxScaler(copy=True, feature_range=(0, 1)))],\n",
      "       transformer_weights=None)), ('classifier', RandomForestClassifier(bootstrap=True, class_weight=None, criterion='entropy',\n",
      "            max_depth=None, max_features=Non...stimators=10, n_jobs=1,\n",
      "            oob_score=False, random_state=13, verbose=0, warm_start=False))])\n",
      "\tAccuracy: 0.86013\tPrecision: 0.43890\tRecall: 0.17600\tF1: 0.25125\tF2: 0.19995\n",
      "\tTotal predictions: 15000\tTrue positives:  352\tFalse positives:  450\tFalse negatives: 1648\tTrue negatives: 12550\n",
      "\n",
      "Wall time: 11.9 s\n"
     ]
    }
   ],
   "source": [
    "%%time\n",
    "hide_me\n",
    "### Then we test it with our tester code\n",
    "random_forest_clf_fin = random_forest_clf.set_params(**random_forest_grid.best_params_)\n",
    "test_classifier(random_forest_clf_fin, data_dict_fe, features_list_fe)"
   ]
  },
  {
   "cell_type": "code",
   "execution_count": 46,
   "metadata": {
    "collapsed": false
   },
   "outputs": [
    {
     "name": "stdout",
     "output_type": "stream",
     "text": [
      "\n",
      "Fitting 1000 folds for each of 9 candidates, totalling 9000 fits\n",
      "The best parameters are {'classifier__learning_rate': 0.3, 'classifier__max_features': None} with a score of 0.29\n",
      "Wall time: 7min 4s\n",
      "\n"
     ]
    }
   ],
   "source": [
    "# %%time\n",
    "### GradientBoostingClassifier\n",
    "### It took 7 minutes to run this code so for now comment this code block out and print the latest output instead.\n",
    "hide_me\n",
    "\n",
    "# from sklearn.ensemble import GradientBoostingClassifier\n",
    "\n",
    "# gb_estimators = [\n",
    "#     ('features', combined_features),\n",
    "#     ('classifier', GradientBoostingClassifier(random_state=random))\n",
    "# ]\n",
    "\n",
    "# # Parameters used in GridSearchCV\n",
    "# gb_parameters = [\n",
    "#     {\n",
    "#         'classifier__max_features': [None, 'auto', 'log2'],\n",
    "#         'classifier__learning_rate': [0.1, 0.3, 0.7]\n",
    "#     }\n",
    "# ]\n",
    "\n",
    "# gb_clf = Pipeline(gb_estimators)\n",
    "\n",
    "# gb_grid = GridSearchCV(gb_clf, gb_parameters, cv = cv, scoring='f1', verbose=1)\n",
    "# gb_grid.fit(feature_values, labels)\n",
    "\n",
    "# print(\"The best parameters are %s with a score of %0.2f\"\n",
    "#       % (gb_grid.best_params_, gb_grid.best_score_))\n",
    "print '''\n",
    "Fitting 1000 folds for each of 9 candidates, totalling 9000 fits\n",
    "The best parameters are {'classifier__learning_rate': 0.3, 'classifier__max_features': None} with a score of 0.29\n",
    "Wall time: 7min 4s\n",
    "'''"
   ]
  },
  {
   "cell_type": "code",
   "execution_count": 47,
   "metadata": {
    "collapsed": false
   },
   "outputs": [
    {
     "name": "stdout",
     "output_type": "stream",
     "text": [
      "Pipeline(steps=[('features', FeatureUnion(n_jobs=1,\n",
      "       transformer_list=[('scale', MinMaxScaler(copy=True, feature_range=(0, 1)))],\n",
      "       transformer_weights=None)), ('classifier', GradientBoostingClassifier(init=None, learning_rate=0.3, loss='deviance',\n",
      "              max_depth=3, max_features=None, max...=0.0, n_estimators=100,\n",
      "              random_state=13, subsample=1.0, verbose=0, warm_start=False))])\n",
      "\tAccuracy: 0.85193\tPrecision: 0.41905\tRecall: 0.28600\tF1: 0.33997\tF2: 0.30539\n",
      "\tTotal predictions: 15000\tTrue positives:  572\tFalse positives:  793\tFalse negatives: 1428\tTrue negatives: 12207\n",
      "\n",
      "Wall time: 50.2 s\n"
     ]
    }
   ],
   "source": [
    "%%time\n",
    "hide_me\n",
    "### Then we test it with our tester code\n",
    "### Load from file instead if gb_clf does not exist.\n",
    "try:\n",
    "    gb_clf_fin = gb_clf.set_params(**gb_grid.best_params_)\n",
    "    cPickle.dump(gb_clf_fin, open('files/gb_clf_fin.pkl', \"w\") )\n",
    "except NameError:\n",
    "    gb_clf_fin = cPickle.load(open('files/gb_clf_fin.pkl', \"r\"))\n",
    "test_classifier(gb_clf_fin, data_dict_fe, features_list_fe)"
   ]
  },
  {
   "cell_type": "markdown",
   "metadata": {},
   "source": [
    "```\n",
    "                        time (sec)   |   precision   |   recall   |   F1-score\n",
    "DecisionTreeClassifier  1.27             0.40902\t     0.38550      0.39691\n",
    "RandomForestClassifier  12.2             0.43890         0.17600      0.25125\n",
    "GradientBoostClassifier 53.8             0.41905         0.28600      0.33997\n",
    "```\n",
    "\n",
    "GradientBoost could probably beat DecisionTree with a little bit of tuning, as there are some configurations in GradientBoost not available in DecisionTree. However, since execution time is also important here (as in most Machine Learning projects I suppose...) let us stick with DecisionTreeClassifier."
   ]
  },
  {
   "cell_type": "markdown",
   "metadata": {},
   "source": [
    "## 9. Tune The Algorithm\n",
    "We can now begin exploring different configurations for DecisionTreeClasifer to find the most optimized model for our problem set. There are a few configurations we can tune here:\n",
    "\n",
    "#### Imputation Tuning\n",
    "This should not even be used for this project, because \"NaN\" values are not missing values. Instead they are the value 0 that we can use in our features, as proven by financial information from PDF.\n",
    "\n",
    "#### Feature Scaling\n",
    "All features were scaled with `MinMaxScaler` algorithm before being classified. There are no configurations needed here.\n",
    "\n",
    "#### Reduce Dimensionality (with PCA)\n",
    "Reduce the number of features we use in our model with PCA algorithm. In PCA step, we can try out several values of *n_components*, that is, the maximum number of features to keep.\n",
    "\n",
    "### 9.1. Initial Tuning\n",
    "We can use sklearn's GridSearchCV to do an exhaustive search through multiple combinations of tuning parameters. The result is as follows:"
   ]
  },
  {
   "cell_type": "code",
   "execution_count": 48,
   "metadata": {
    "collapsed": false,
    "scrolled": false
   },
   "outputs": [
    {
     "name": "stdout",
     "output_type": "stream",
     "text": [
      "\n",
      "The best parameters are {'classifier__max_features': None, 'reduce_dim__n_components': None, 'classifier__min_samples_split': 2, 'classifier__class_weight': {0: 0.3, 1: 0.8}, 'classifier__splitter': 'best', 'classifier__min_samples_leaf': 2, 'classifier__min_weight_fraction_leaf': 0, 'classifier__max_depth': 3, 'classifier__criterion': 'entropy'} with a score of 0.27\n",
      "\n",
      "Wall time 75min\n",
      "\n"
     ]
    }
   ],
   "source": [
    "# %%time\n",
    "hide_me\n",
    "\n",
    "### This takes a whopping 75 mins so we just print the final result.\n",
    "### You can always uncomment the following code if you want to try running it\n",
    "### on your machine.\n",
    "\n",
    "# from sklearn.decomposition import PCA\n",
    "\n",
    "# # Join all the features here\n",
    "# final_estimators = [\n",
    "#     ('scale', MinMaxScaler()),\n",
    "#     ('reduce_dim', PCA()),\n",
    "#     ('classifier', DecisionTreeClassifier(random_state=random))\n",
    "# ]\n",
    "\n",
    "# # Parameters used in GridSearchCV\n",
    "# final_parameters = [\n",
    "#     {\n",
    "#         'reduce_dim__n_components': [None, 'mle'],\n",
    "#         'classifier__max_features': [None, 'auto'],\n",
    "#         'classifier__criterion': ['entropy'],\n",
    "#         'classifier__max_depth': [None, 3, 10],\n",
    "#         'classifier__min_samples_split': [2, 1, 3],\n",
    "#         'classifier__min_samples_leaf': [1, 2],\n",
    "#         'classifier__min_weight_fraction_leaf': [0, 0.1],\n",
    "#         'classifier__class_weight': [{1: 1, 0: 0.5}, {1: 0.8, 0: 0.3}, {1:1, 0:1}],\n",
    "#         'classifier__splitter': ['best', 'random']\n",
    "#     }\n",
    "# ]\n",
    "\n",
    "# final_clf = Pipeline(final_estimators)\n",
    "\n",
    "# final_grid = GridSearchCV(final_clf, final_parameters, cv = cv, scoring='f1', verbose=1)\n",
    "# final_grid.fit(feature_values, labels)\n",
    "\n",
    "# print(\"The best parameters are %s with a score of %0.2f\"\n",
    "#       % (final_grid.best_params_, final_grid.best_score_))\n",
    "\n",
    "print '''\n",
    "The best parameters are {'classifier__max_features': None, 'reduce_dim__n_components': None, 'classifier__min_samples_split': 2, 'classifier__class_weight': {0: 0.3, 1: 0.8}, 'classifier__splitter': 'best', 'classifier__min_samples_leaf': 2, 'classifier__min_weight_fraction_leaf': 0, 'classifier__max_depth': 3, 'classifier__criterion': 'entropy'} with a score of 0.27\n",
    "\n",
    "Wall time 75min\n",
    "'''"
   ]
  },
  {
   "cell_type": "code",
   "execution_count": 49,
   "metadata": {
    "collapsed": false
   },
   "outputs": [
    {
     "name": "stdout",
     "output_type": "stream",
     "text": [
      "Pipeline(steps=[('scale', MinMaxScaler(copy=True, feature_range=(0, 1))), ('reduce_dim', PCA(copy=True, n_components=None, whiten=False)), ('classifier', DecisionTreeClassifier(class_weight={0: 0.3, 1: 0.8}, criterion='entropy',\n",
      "            max_depth=3, max_features=None, max_leaf_nodes=None,\n",
      "            min_samples_leaf=2, min_samples_split=2,\n",
      "            min_weight_fraction_leaf=0, random_state=13, splitter='best'))])\n",
      "\tAccuracy: 0.77880\tPrecision: 0.25429\tRecall: 0.34100\tF1: 0.29133\tF2: 0.31923\n",
      "\tTotal predictions: 15000\tTrue positives:  682\tFalse positives: 2000\tFalse negatives: 1318\tTrue negatives: 11000\n",
      "\n",
      "Wall time: 2.31 s\n"
     ]
    }
   ],
   "source": [
    "%%time\n",
    "hide_me\n",
    "\n",
    "try:\n",
    "    final_clf_fail = final_clf.set_params(**final_grid.best_params_)\n",
    "    cPickle.dump(final_clf_fail, open('files/final_clf_fail.pkl', \"w\") )\n",
    "except NameError:\n",
    "    final_clf_fail = cPickle.load(open('files/final_clf_fail.pkl', \"r\"))\n",
    "    \n",
    "test_classifier(final_clf_fail, data_dict_fe, features_list_fe)"
   ]
  },
  {
   "cell_type": "markdown",
   "metadata": {},
   "source": [
    "We get lower scores than our previous model. What happened?\n",
    "\n",
    "The only thing that changed was the introduction of PCA in our pipeline. Let's remove that and see if the model improves."
   ]
  },
  {
   "cell_type": "code",
   "execution_count": 50,
   "metadata": {
    "collapsed": false
   },
   "outputs": [
    {
     "name": "stdout",
     "output_type": "stream",
     "text": [
      "\n",
      "Fitting 1000 folds for each of 432 candidates, totalling 432000 fits\n",
      "The best parameters are {'classifier__max_features': None, 'classifier__min_samples_split': 2, 'classifier__class_weight': {0: 0.3, 1: 0.8}, 'classifier__splitter': 'best', 'classifier__min_samples_leaf': 2, 'classifier__min_weight_fraction_leaf': 0, 'classifier__max_depth': 3, 'classifier__criterion': 'entropy'} with a score of 0.51\n",
      "\n",
      "Wall time 22min 6s\n",
      "\n"
     ]
    }
   ],
   "source": [
    "# %%time\n",
    "hide_me\n",
    "\n",
    "### This takes 22 mins so we just print the final result again.\n",
    "### You can always uncomment the following code if you want to try running it\n",
    "### on your machine.\n",
    "\n",
    "# from sklearn.decomposition import PCA\n",
    "\n",
    "# # Join all the features here\n",
    "# final_estimators_no_pca = [\n",
    "#     ('scale', MinMaxScaler()),\n",
    "#     ('classifier', DecisionTreeClassifier(random_state=random))\n",
    "# ]\n",
    "\n",
    "# # Parameters used in GridSearchCV\n",
    "# final_parameters_no_pca = [\n",
    "#     {\n",
    "#         'classifier__max_features': [None, 'auto'],\n",
    "#         'classifier__criterion': ['entropy'],\n",
    "#         'classifier__max_depth': [None, 3, 10],\n",
    "#         'classifier__min_samples_split': [2, 1, 3],\n",
    "#         'classifier__min_samples_leaf': [1, 2],\n",
    "#         'classifier__min_weight_fraction_leaf': [0, 0.1],\n",
    "#         'classifier__class_weight': [{1: 1, 0: 0.5}, {1: 0.8, 0: 0.3}, {1:1, 0:1}],\n",
    "#         'classifier__splitter': ['best', 'random']\n",
    "#     }\n",
    "# ]\n",
    "\n",
    "# final_clf_no_pca = Pipeline(final_estimators_no_pca)\n",
    "\n",
    "# final_grid_no_pca = GridSearchCV(final_clf_no_pca, final_parameters_no_pca, cv = cv, scoring='f1', verbose=1)\n",
    "# final_grid_no_pca.fit(feature_values, labels)\n",
    "\n",
    "# print(\"The best parameters are %s with a score of %0.2f\"\n",
    "#       % (final_grid_no_pca.best_params_, final_grid_no_pca.best_score_))\n",
    "\n",
    "print '''\n",
    "Fitting 1000 folds for each of 432 candidates, totalling 432000 fits\n",
    "The best parameters are {'classifier__max_features': None, 'classifier__min_samples_split': 2, 'classifier__class_weight': {0: 0.3, 1: 0.8}, 'classifier__splitter': 'best', 'classifier__min_samples_leaf': 2, 'classifier__min_weight_fraction_leaf': 0, 'classifier__max_depth': 3, 'classifier__criterion': 'entropy'} with a score of 0.51\n",
    "\n",
    "Wall time 22min 6s\n",
    "'''"
   ]
  },
  {
   "cell_type": "code",
   "execution_count": 51,
   "metadata": {
    "collapsed": false,
    "scrolled": true
   },
   "outputs": [
    {
     "name": "stdout",
     "output_type": "stream",
     "text": [
      "Pipeline(steps=[('scale', MinMaxScaler(copy=True, feature_range=(0, 1))), ('classifier', DecisionTreeClassifier(class_weight={0: 0.3, 1: 0.8}, criterion='entropy',\n",
      "            max_depth=3, max_features=None, max_leaf_nodes=None,\n",
      "            min_samples_leaf=2, min_samples_split=2,\n",
      "            min_weight_fraction_leaf=0, random_state=13, splitter='best'))])\n",
      "\tAccuracy: 0.86047\tPrecision: 0.47906\tRecall: 0.53200\tF1: 0.50415\tF2: 0.52050\n",
      "\tTotal predictions: 15000\tTrue positives: 1064\tFalse positives: 1157\tFalse negatives:  936\tTrue negatives: 11843\n",
      "\n",
      "Wall time: 2 s\n"
     ]
    }
   ],
   "source": [
    "%%time\n",
    "hide_me\n",
    "\n",
    "try:\n",
    "    final_clf_no_pca_optimized = final_clf_no_pca.set_params(**final_grid_no_pca.best_params_)\n",
    "    cPickle.dump(final_clf_no_pca_optimized, open('files/final_clf_no_pca_optimized.pkl', \"w\") )\n",
    "except NameError:\n",
    "    final_clf_no_pca_optimized = cPickle.load(open('files/final_clf_no_pca_optimized.pkl', \"r\"))\n",
    "    \n",
    "test_classifier(final_clf_no_pca_optimized, data_dict_fe, features_list_fe)\n"
   ]
  },
  {
   "cell_type": "markdown",
   "metadata": {},
   "source": [
    "Alright, the model greatly improved after we removed PCA step in our Pipeline.\n",
    "\n",
    "### 9.2. Try out different parameters for the most effective ones.\n",
    "In this step, I try to find a confirmation of our finding by running another automated parameters finder (GridSearchCV) with further explorations only on parameters that I suspect could still be optimized."
   ]
  },
  {
   "cell_type": "code",
   "execution_count": 62,
   "metadata": {
    "collapsed": false,
    "scrolled": true
   },
   "outputs": [
    {
     "name": "stdout",
     "output_type": "stream",
     "text": [
      "The best parameters are {'classifier__max_features': None, 'classifier__min_samples_split': 2, 'classifier__class_weight': {0: 0.3, 1: 0.8}, 'classifier__splitter': 'best', 'classifier__min_samples_leaf': 2, 'classifier__min_weight_fraction_leaf': 0, 'classifier__max_depth': 3, 'classifier__criterion': 'entropy'} with a score of 0.51\n",
      "Wall time: 40 s\n"
     ]
    }
   ],
   "source": [
    "%%time\n",
    "hide_me\n",
    "\n",
    "### Running GridSearchCV with exploration on non-default parameters.\n",
    "\n",
    "from sklearn.decomposition import PCA\n",
    "\n",
    "# Join all the features here\n",
    "final_estimators_no_pca2 = [\n",
    "    ('scale', MinMaxScaler()),\n",
    "    ('classifier', DecisionTreeClassifier(random_state=random))\n",
    "]\n",
    "\n",
    "# Parameters used in GridSearchCV\n",
    "final_parameters_no_pca2 = [\n",
    "    {\n",
    "        'classifier__max_features': [None],\n",
    "        'classifier__criterion': ['entropy'],\n",
    "        'classifier__min_samples_split': [2],\n",
    "        'classifier__min_samples_leaf': [2],\n",
    "        'classifier__min_weight_fraction_leaf': [0],\n",
    "        'classifier__max_depth': [2, 3, 4, 5],\n",
    "        'classifier__class_weight': [{1: 0.8, 0: 0.3}, {1: 0.8, 0: 0.35}, {1: 0.8, 0: 0.25}],\n",
    "        'classifier__splitter': ['best']\n",
    "    }\n",
    "]\n",
    "\n",
    "final_clf_no_pca2 = Pipeline(final_estimators_no_pca2)\n",
    "\n",
    "final_grid_no_pca2 = GridSearchCV(final_clf_no_pca2, final_parameters_no_pca2, cv = cv, scoring='f1')\n",
    "final_grid_no_pca2.fit(feature_values, labels)\n",
    "\n",
    "print(\"The best parameters are %s with a score of %0.2f\"\n",
    "      % (final_grid_no_pca2.best_params_, final_grid_no_pca2.best_score_))"
   ]
  },
  {
   "cell_type": "code",
   "execution_count": 63,
   "metadata": {
    "collapsed": false
   },
   "outputs": [
    {
     "name": "stdout",
     "output_type": "stream",
     "text": [
      "Pipeline(steps=[('scale', MinMaxScaler(copy=True, feature_range=(0, 1))), ('classifier', DecisionTreeClassifier(class_weight={0: 0.3, 1: 0.8}, criterion='entropy',\n",
      "            max_depth=3, max_features=None, max_leaf_nodes=None,\n",
      "            min_samples_leaf=2, min_samples_split=2,\n",
      "            min_weight_fraction_leaf=0, random_state=13, splitter='best'))])\n",
      "\tAccuracy: 0.86047\tPrecision: 0.47906\tRecall: 0.53200\tF1: 0.50415\tF2: 0.52050\n",
      "\tTotal predictions: 15000\tTrue positives: 1064\tFalse positives: 1157\tFalse negatives:  936\tTrue negatives: 11843\n",
      "\n",
      "Wall time: 1.39 s\n"
     ]
    }
   ],
   "source": [
    "%%time\n",
    "hide_me\n",
    "\n",
    "final_clf_no_pca_confirm = final_clf_no_pca2.set_params(**final_grid_no_pca2.best_params_)    \n",
    "test_classifier(final_clf_no_pca_confirm, data_dict_fe, features_list_fe)"
   ]
  },
  {
   "cell_type": "markdown",
   "metadata": {},
   "source": [
    "As it turned out, we ended up with exactly similar parameters and score as above. At this point I can be quite sure the parameters are as optimized as they should be for now. There are possibly other ways to improve the scores but I am quite happy with the current outcome.\n",
    "\n",
    "## 10. Boosting with AdaBoost\n",
    "Since earlier we found that boosting optimized DecisionTreeClassifier with AdaBoost improved the prediction model, here we try it again. The result of boosting as follows:"
   ]
  },
  {
   "cell_type": "code",
   "execution_count": 68,
   "metadata": {
    "collapsed": false
   },
   "outputs": [
    {
     "name": "stdout",
     "output_type": "stream",
     "text": [
      "\n",
      "\n",
      "The best parameters are {'classifier__learning_rate': 0.1, 'classifier__base_estimator': DecisionTreeClassifier(class_weight={0: 0.3, 1: 0.8}, criterion='entropy',\n",
      "            max_depth=3, max_features=None, max_leaf_nodes=None,\n",
      "            min_samples_leaf=2, min_samples_split=2,\n",
      "            min_weight_fraction_leaf=0, random_state=13, splitter='best'), 'classifier__n_estimators': 10} with a score of 0.29\n",
      "Wall time: 14min 2s\n",
      "\n"
     ]
    }
   ],
   "source": [
    "%%time\n",
    "\n",
    "hide_me\n",
    "\n",
    "### This takes 22 mins so we just print the final result again.\n",
    "\n",
    "# ### Setting AdaBoostClassifier with best parameters as found above\n",
    "# final_ada_boost_estimators = [\n",
    "#     ('scale', MinMaxScaler()),\n",
    "#     ('classifier', AdaBoostClassifier(random_state=random))\n",
    "# ]\n",
    "\n",
    "# # Best parameters used in our DecisionTreeClassifier.\n",
    "# best_params = final_clf_no_pca_confirm.steps[-1][1].get_params()\n",
    "\n",
    "# final_ada_boost_parameters = [\n",
    "#     {\n",
    "#         # Trying out AdaBoost with different weak classifiers.\n",
    "#         'classifier__base_estimator': [DecisionTreeClassifier(**best_params)],\n",
    "#         'classifier__n_estimators': [10, 50, 70],\n",
    "#         'classifier__learning_rate': [0.1, 0.3, 0.7, 1]\n",
    "#     }\n",
    "# ]\n",
    "\n",
    "# final_ada_boost_clf = Pipeline(final_ada_boost_estimators)\n",
    "\n",
    "# final_ada_boost_grid = GridSearchCV(final_ada_boost_clf, final_ada_boost_parameters, cv = cv, scoring='f1')\n",
    "# final_ada_boost_grid.fit(feature_values, labels)\n",
    "\n",
    "# print(\"The best parameters are %s with a score of %0.2f\"\n",
    "#       % (final_ada_boost_grid.best_params_, final_ada_boost_grid.best_score_))\n",
    "\n",
    "print '''\n",
    "\n",
    "The best parameters are {'classifier__learning_rate': 0.1, 'classifier__base_estimator': DecisionTreeClassifier(class_weight={0: 0.3, 1: 0.8}, criterion='entropy',\n",
    "            max_depth=3, max_features=None, max_leaf_nodes=None,\n",
    "            min_samples_leaf=2, min_samples_split=2,\n",
    "            min_weight_fraction_leaf=0, random_state=13, splitter='best'), 'classifier__n_estimators': 10} with a score of 0.29\n",
    "Wall time: 14min 2s\n",
    "'''"
   ]
  },
  {
   "cell_type": "code",
   "execution_count": 67,
   "metadata": {
    "collapsed": false
   },
   "outputs": [
    {
     "name": "stdout",
     "output_type": "stream",
     "text": [
      "Pipeline(steps=[('scale', MinMaxScaler(copy=True, feature_range=(0, 1))), ('classifier', AdaBoostClassifier(algorithm='SAMME.R',\n",
      "          base_estimator=DecisionTreeClassifier(class_weight=None, criterion='entropy', max_depth=None,\n",
      "            max_features='auto', max_leaf_nodes=None, min_samples_leaf=1,\n",
      "            min_samples_split=2, min_weight_fraction_leaf=0.0,\n",
      "            random_state=13, splitter='best'),\n",
      "          learning_rate=0.1, n_estimators=10, random_state=13))])\n",
      "\tAccuracy: 0.84387\tPrecision: 0.41000\tRecall: 0.38950\tF1: 0.39949\tF2: 0.39343\n",
      "\tTotal predictions: 15000\tTrue positives:  779\tFalse positives: 1121\tFalse negatives: 1221\tTrue negatives: 11879\n",
      "\n",
      "Wall time: 1.89 s\n"
     ]
    }
   ],
   "source": [
    "%%time\n",
    "hide_me\n",
    "\n",
    "try:\n",
    "    final_ada_boost_clf_optimized = final_ada_boost_clf.set_params(**ada_boost_grid.best_params_)\n",
    "    cPickle.dump(final_ada_boost_clf_optimized, open('files/final_ada_boost_clf_optimized.pkl', \"w\") )\n",
    "except NameError:\n",
    "    final_ada_boost_clf_optimized = cPickle.load(open('files/final_ada_boost_clf_optimized.pkl', \"r\"))\n",
    "    \n",
    "test_classifier(final_ada_boost_clf_optimized, data_dict_fe, features_list_fe)"
   ]
  },
  {
   "cell_type": "markdown",
   "metadata": {},
   "source": [
    "A weird thing happened. Looks like this time boosting with AdaBoost worsen our model. In that case, we will keep our previous DecisionTree-based prediction model. Here is the result again, just so we have the best report at the bottom of this document."
   ]
  },
  {
   "cell_type": "code",
   "execution_count": 74,
   "metadata": {
    "collapsed": false
   },
   "outputs": [
    {
     "name": "stdout",
     "output_type": "stream",
     "text": [
      "Pipeline(steps=[('scale', MinMaxScaler(copy=True, feature_range=(0, 1))), ('classifier', DecisionTreeClassifier(class_weight={0: 0.3, 1: 0.8}, criterion='entropy',\n",
      "            max_depth=3, max_features=None, max_leaf_nodes=None,\n",
      "            min_samples_leaf=2, min_samples_split=2,\n",
      "            min_weight_fraction_leaf=0, random_state=13, splitter='best'))])\n",
      "\tAccuracy: 0.86047\tPrecision: 0.47906\tRecall: 0.53200\tF1: 0.50415\tF2: 0.52050\n",
      "\tTotal predictions: 15000\tTrue positives: 1064\tFalse positives: 1157\tFalse negatives:  936\tTrue negatives: 11843\n",
      "\n",
      "Wall time: 1.43 s\n"
     ]
    }
   ],
   "source": [
    "%%time\n",
    "hide_me\n",
    "\n",
    "try:\n",
    "    dump_classifier_and_data(final_clf_no_pca_confirm, data_dict_fe, features_list_fe)\n",
    "except NameError:\n",
    "    from tester import load_classifier_and_data\n",
    "    final_clf_no_pca_confirm, data_dict_fe, features_list_fe = load_classifier_and_data()\n",
    "    \n",
    "test_classifier(final_clf_no_pca_confirm, data_dict_fe, features_list_fe)"
   ]
  },
  {
   "cell_type": "markdown",
   "metadata": {},
   "source": [
    "## 11. Conclusion\n",
    "In the end, I managed to get the prediction model to have 86% accuracy in predicting whether a person is suspicious enough to be a Person of Interest based on their insider pay and email statistics. But that is not the most important metrics here, and can even be misleading.\n",
    "\n",
    "Accuracy 86% means \"out of all my predictions, I can be sure 86% are correct\", but then since the number of POIs are much less than non-POIs, we can just predict all as non-POIs and we will get very good accuracy.\n",
    "\n",
    "The more important metrics here are precision and recall, that is:\n",
    "\n",
    "- **Precision:** How **exact** my prediction is i.e. since we got 48%, then out of 100 people the model predicted as POI, we can be sure that 48 of them are indeed POIs.\n",
    "- **Recall:** How **complete** my prediction is i.e. with score of 53%, given total 100 POIs in a dataset, this model can find 53 of them.\n",
    "\n",
    "In this whole process we also see that nothing can be conceived as truth before doing a proper testing, as can be seen by the indecisiveness of running AdaBoost with exactly the same parameters, and the change of behavior when including or not including aggregate values (section 5.1).\n",
    "\n",
    "The future work for this that I can see a potential for is in finding a way to properly implement bag of words within our dataset. Perhaps instead of single words we can try with terms or sentences. There's got to be a pattern on how POI communicates, and we can probably find them from their emails. Unfortunately I do not have enough computing power nor time to dig deeper into this for now."
   ]
  },
  {
   "cell_type": "markdown",
   "metadata": {},
   "source": [
    "## References\n",
    "- A Few Useful Things to Know about Machine Learning - Pedro Domingos, Department of Computer Science and Engineering, University of Washington\n",
    "- Feature Engineering Intro: http://machinelearningmastery.com/discover-feature-engineering-how-to-engineer-features-and-how-to-get-good-at-it/\n",
    "- Feature Selection Intro: http://machinelearningmastery.com/an-introduction-to-feature-selection/\n",
    "- Example of performance improvement by Feature Engineering: [Feature Engineering and Classifier Ensemble for KDD Cup 2010](http://pslcdatashop.org/KDDCup/workshop/papers/kdd2010ntu.pdf)\n",
    "- Learning about Kernels: https://charlesmartin14.wordpress.com/2012/02/06/kernels_part_1/ and http://www.quora.com/How-does-one-decide-on-which-kernel-to-choose-for-an-SVM-RBF-vs-linear-vs-poly-kernel\n",
    "- Another good summary of different machine learning techniques and tips: http://blog.bigml.com/2013/02/21/everything-you-wanted-to-know-about-machine-learning-but-were-too-afraid-to-ask-part-two/\n",
    "- Combining multiple classifiers?: http://sebastianraschka.com/Articles/2014_ensemble_classifier.html\n",
    "- How to get importance rank in Decision Tree: http://scikit-learn.org/stable/auto_examples/ensemble/plot_forest_importances.html\n",
    "- Evaluation metrix in Machine Learning http://machinelearningmastery.com/how-to-evaluate-machine-learning-algorithms/\n",
    "- Good intro on TFIDF: http://www.markhneedham.com/blog/2015/02/15/pythonscikit-learn-calculating-tfidf-on-how-i-met-your-mother-transcripts/\n",
    "- What is Sparse Matrix? (used in TFIDF): https://en.wikipedia.org/wiki/Sparse_matrix\n",
    "- Comparison of several ML Algorithms' computational performance: http://ccr.sigcomm.org/online/files/p7-williams.pdf\n",
    "- Combining Pipelines and Feature Unions: http://zacstewart.com/2014/08/05/pipelines-of-featureunions-of-pipelines.html\n",
    "- Spot check your algorithms: http://machinelearningmastery.com/why-you-should-be-spot-checking-algorithms-on-your-machine-learning-problems/\n",
    "- The best explanation about Precision and Recall: http://rushdishams.blogspot.com/2011/03/precision-and-recall.html\n",
    "- Understanding AdaBoost algorithm: https://en.wikipedia.org/wiki/AdaBoost\n",
    "- In depth learning on AdaBoost classifier: https://chrisjmccormick.wordpress.com/2013/12/13/adaboost-tutorial/\n",
    "- Cross-validation: the illusion of reliable performance estimation - Zolt´an Prekopcs´ak, Tam´as Henk, Csaba G´asp´ar-Papanek\n",
    "- And tons of other resources."
   ]
  },
  {
   "cell_type": "code",
   "execution_count": null,
   "metadata": {
    "collapsed": true
   },
   "outputs": [],
   "source": []
  }
 ],
 "metadata": {
  "kernelspec": {
   "display_name": "Python 2",
   "language": "python",
   "name": "python2"
  },
  "language_info": {
   "codemirror_mode": {
    "name": "ipython",
    "version": 2
   },
   "file_extension": ".py",
   "mimetype": "text/x-python",
   "name": "python",
   "nbconvert_exporter": "python",
   "pygments_lexer": "ipython2",
   "version": "2.7.10"
  }
 },
 "nbformat": 4,
 "nbformat_minor": 0
}
